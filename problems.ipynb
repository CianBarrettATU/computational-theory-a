{
 "cells": [
  {
   "cell_type": "markdown",
   "id": "6f7860e3",
   "metadata": {},
   "source": [
    "## Computational Theory\n"
   ]
  },
  {
   "cell_type": "markdown",
   "id": "faae59f7",
   "metadata": {},
   "source": [
    "## Binary Words and Operations\n"
   ]
  },
  {
   "cell_type": "markdown",
   "id": "5e622206",
   "metadata": {},
   "source": [
    "- Parity function:\n",
    "\n",
    "(x xor y xor z)\n"
   ]
  },
  {
   "cell_type": "code",
   "execution_count": 1,
   "id": "fb6ac34e",
   "metadata": {},
   "outputs": [],
   "source": [
    "def Parity(x,y,z):\n",
    "    input_var = [x,y,z]\n",
    "    bin_list = []\n",
    "    for i in input_var:\n",
    "        binary_32bit = bin(i)[2:].zfill(32)\n",
    "        bin_list.append(binary_32bit)\n",
    "\n",
    "    result = []\n",
    "\n",
    "    for bit_position in range(32):\n",
    "        xor_result = int(bin_list[0][bit_position])\n",
    "        for i in range(1, len(bin_list)):\n",
    "            xor_result ^= int(bin_list[i][bit_position])\n",
    "\n",
    "        result.append(str(xor_result)) \n",
    "    \n",
    "    return ''.join(result)\n"
   ]
  },
  {
   "cell_type": "code",
   "execution_count": 2,
   "id": "d2c9f38d",
   "metadata": {},
   "outputs": [
    {
     "data": {
      "text/plain": [
       "'00000000000000000000000001000100'"
      ]
     },
     "execution_count": 2,
     "metadata": {},
     "output_type": "execute_result"
    }
   ],
   "source": [
    "Parity(12,77,5)"
   ]
  },
  {
   "cell_type": "markdown",
   "id": "30d24eee",
   "metadata": {},
   "source": [
    "\n",
    "## Ch (Choose Function):\n",
    "\n",
    "The Ch function takes in three variables in its parameters. The values are treated as 32 bit integers. An exclusive or is performed on the result of (x & y) and (!x & z).\n",
    "\n",
    "First the variables are converted into 32 bit binary arrays and are stored as variables bin_x, bin_y, bin_z. For performing the '&' on x and y iterate over each bit and performs the '&' on each corresponding bit in x and y and stores the result of each in a list 'and_xy'\n",
    "\n",
    "The same is done for x and z but with a not operator on x. This means it changes all 0s to 1s and vice versa on x, this is then stored as not_x. this not_x is then used in an '&' between x and z.\n",
    "\n",
    "An xor is performed on and_xy and andnot_xz for each bit and the result is returned as a 32 bit binary string\n"
   ]
  },
  {
   "cell_type": "markdown",
   "id": "881da72d",
   "metadata": {},
   "source": [
    "Ch(x,y,z) = (x ^ y) xor (!x ^ z)\n"
   ]
  },
  {
   "cell_type": "code",
   "execution_count": 3,
   "id": "ba947682",
   "metadata": {},
   "outputs": [],
   "source": [
    "def Ch(x,y,z):\n",
    "    input_var = [x,y,z]\n",
    "\n",
    "    #storing result of each operation ->\n",
    "    #then perform xor after\n",
    "    and_xy = []\n",
    "    and_notxz = []\n",
    "\n",
    "    result = []\n",
    "\n",
    "    bin_x = bin(x)[2:].zfill(32)\n",
    "    bin_y = bin(y)[2:].zfill(32)\n",
    "    bin_z = bin(z)[2:].zfill(32)\n",
    "\n",
    "    #(x & y)\n",
    "    for i in range(32):\n",
    "        and_xy.append(str(int(bin_x[i]) & (int(bin_y[i]))))\n",
    "\n",
    "    #(not x & z)\n",
    "    for i in range(32):\n",
    "        not_x = '1' if bin_x[i] == '0' else '0'\n",
    "        and_notxz.append(str(int(not_x) & int(bin_z[i])))\n",
    "\n",
    "    #xor \n",
    "    for i in range(32):\n",
    "        result.append(str(int(and_xy[i]) ^ int(and_notxz[i])))\n",
    "        \n",
    "    return ''.join(result)\n"
   ]
  },
  {
   "cell_type": "markdown",
   "id": "ef1d18bb",
   "metadata": {},
   "source": []
  },
  {
   "cell_type": "code",
   "execution_count": 4,
   "id": "2b388d4b",
   "metadata": {},
   "outputs": [
    {
     "data": {
      "text/plain": [
       "'00000000000000000000000000000100'"
      ]
     },
     "execution_count": 4,
     "metadata": {},
     "output_type": "execute_result"
    }
   ],
   "source": [
    "Ch(3,4,5)"
   ]
  },
  {
   "cell_type": "markdown",
   "id": "3df65450",
   "metadata": {},
   "source": [
    "Maj(x, y, z)=(x^y)xor(x^z)xor(y^z)"
   ]
  },
  {
   "cell_type": "markdown",
   "id": "a3c28daa",
   "metadata": {},
   "source": []
  },
  {
   "cell_type": "code",
   "execution_count": null,
   "id": "691429a8",
   "metadata": {},
   "outputs": [],
   "source": [
    "def Maj(x,y,z):\n",
    "    input_var = [x,y,z]\n",
    "\n",
    "    and_xy = []\n",
    "    and_xz = []\n",
    "    and_yz = []\n",
    "\n",
    "    result = []\n",
    "\n",
    "    bin_x = bin(x)[2:].zfill(32)\n",
    "    bin_y = bin(y)[2:].zfill(32)\n",
    "    bin_z = bin(z)[2:].zfill(32)\n",
    "\n",
    "    for i in range(32):\n",
    "        and_xy.append(str(int(bin_x[i]) & int(bin_y[i])))\n",
    "\n",
    "    for i in range(32):\n",
    "        and_xz.append(str(int(bin_x[i]) & int(bin_z[i])))\n",
    "\n",
    "    for i in range(32):\n",
    "        and_yz.append(str(int(bin_y[i]) & int(bin_z[i])))\n",
    "\n",
    "    #xor xy xz\n",
    "    for i in range(32):\n",
    "        result.append(str(int(and_xy[i]) ^ int(and_xz[i])))\n",
    "\n",
    "    #xor xz yz\n",
    "    for i in range(32):\n",
    "        result.append(str(int(and_xz[i]) ^ int(and_yz[i])))\n",
    "\n",
    "    return ''.join(result)\n",
    "\n",
    "\n"
   ]
  },
  {
   "cell_type": "markdown",
   "id": "3e950a23",
   "metadata": {},
   "source": []
  },
  {
   "cell_type": "code",
   "execution_count": 13,
   "id": "c84d22c0",
   "metadata": {},
   "outputs": [
    {
     "data": {
      "text/plain": [
       "'0000000000000000000000000000000100000000000000000000000000000101'"
      ]
     },
     "execution_count": 13,
     "metadata": {},
     "output_type": "execute_result"
    }
   ],
   "source": [
    "Maj(3,4,5)"
   ]
  },
  {
   "cell_type": "code",
   "execution_count": null,
   "id": "1576c256",
   "metadata": {},
   "outputs": [],
   "source": []
  },
  {
   "cell_type": "markdown",
   "id": "3505bccb",
   "metadata": {},
   "source": []
  },
  {
   "cell_type": "markdown",
   "id": "222d0335",
   "metadata": {},
   "source": []
  }
 ],
 "metadata": {
  "kernelspec": {
   "display_name": ".venv",
   "language": "python",
   "name": "python3"
  },
  "language_info": {
   "codemirror_mode": {
    "name": "ipython",
    "version": 3
   },
   "file_extension": ".py",
   "mimetype": "text/x-python",
   "name": "python",
   "nbconvert_exporter": "python",
   "pygments_lexer": "ipython3",
   "version": "3.13.7"
  }
 },
 "nbformat": 4,
 "nbformat_minor": 5
}

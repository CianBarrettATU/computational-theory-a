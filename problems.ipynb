{
 "cells": [
  {
   "cell_type": "markdown",
   "id": "6f7860e3",
   "metadata": {},
   "source": [
    "## Computational Theory\n"
   ]
  },
  {
   "cell_type": "markdown",
   "id": "faae59f7",
   "metadata": {},
   "source": [
    "## Binary Words and Operations\n"
   ]
  },
  {
   "cell_type": "code",
   "execution_count": 229,
   "id": "24622a96",
   "metadata": {},
   "outputs": [],
   "source": [
    "import numpy as np"
   ]
  },
  {
   "cell_type": "markdown",
   "id": "5e622206",
   "metadata": {},
   "source": [
    "- Parity function:\n",
    "\n",
    "(x xor y xor z)\n"
   ]
  },
  {
   "cell_type": "code",
   "execution_count": 230,
   "id": "fb6ac34e",
   "metadata": {},
   "outputs": [],
   "source": [
    "def Parity(x,y,z):\n",
    "    input_var = [x,y,z]\n",
    "    bin_list = []\n",
    "    for i in input_var:\n",
    "        binary_32bit = bin(i)[2:].zfill(32)\n",
    "        bin_list.append(binary_32bit)\n",
    "\n",
    "    result = []\n",
    "\n",
    "    for bit_position in range(32):\n",
    "        xor_result = int(bin_list[0][bit_position])\n",
    "        for i in range(1, len(bin_list)):\n",
    "            xor_result ^= int(bin_list[i][bit_position])\n",
    "\n",
    "        result.append(str(xor_result)) \n",
    "    \n",
    "    return ''.join(result)\n"
   ]
  },
  {
   "cell_type": "code",
   "execution_count": 231,
   "id": "d2c9f38d",
   "metadata": {},
   "outputs": [
    {
     "data": {
      "text/plain": [
       "'00000000000000000000000001000100'"
      ]
     },
     "execution_count": 231,
     "metadata": {},
     "output_type": "execute_result"
    }
   ],
   "source": [
    "Parity(12,77,5)"
   ]
  },
  {
   "cell_type": "markdown",
   "id": "30d24eee",
   "metadata": {},
   "source": [
    "## Ch (Choose Function):\n",
    "\n",
    "The Ch function takes in three variables in its parameters. The values are treated as 32 bit integers. An exclusive or is performed on the result of (x & y) and (!x & z).\n",
    "\n",
    "First the variables are converted into 32 bit binary arrays and are stored as variables bin_x, bin_y, bin_z. For performing the '&' on x and y iterate over each bit and performs the '&' on each corresponding bit in x and y and stores the result of each in a list 'and_xy'\n",
    "\n",
    "The same is done for x and z but with a not operator on x. This means it changes all 0s to 1s and vice versa on x, this is then stored as not_x. this not_x is then used in an '&' between x and z.\n",
    "\n",
    "An xor is performed on and_xy and andnot_xz for each bit and the result is returned as a 32 bit binary string\n"
   ]
  },
  {
   "cell_type": "markdown",
   "id": "881da72d",
   "metadata": {},
   "source": [
    "Ch(x,y,z) = (x ^ y) xor (!x ^ z)\n"
   ]
  },
  {
   "cell_type": "code",
   "execution_count": 232,
   "id": "ba947682",
   "metadata": {},
   "outputs": [],
   "source": [
    "def Ch(x,y,z):\n",
    "    input_var = [x,y,z]\n",
    "\n",
    "    #storing result of each operation ->\n",
    "    #then perform xor after\n",
    "    and_xy = []\n",
    "    and_notxz = []\n",
    "\n",
    "    result = []\n",
    "\n",
    "    bin_x = bin(x)[2:].zfill(32)\n",
    "    bin_y = bin(y)[2:].zfill(32)\n",
    "    bin_z = bin(z)[2:].zfill(32)\n",
    "\n",
    "    #(x & y)\n",
    "    for i in range(32):\n",
    "        and_xy.append(str(int(bin_x[i]) & (int(bin_y[i]))))\n",
    "\n",
    "    #(not x & z)\n",
    "    for i in range(32):\n",
    "        not_x = '1' if bin_x[i] == '0' else '0'\n",
    "        and_notxz.append(str(int(not_x) & int(bin_z[i])))\n",
    "\n",
    "    #xor \n",
    "    for i in range(32):\n",
    "        result.append(str(int(and_xy[i]) ^ int(and_notxz[i])))\n",
    "        \n",
    "    return ''.join(result)\n"
   ]
  },
  {
   "cell_type": "markdown",
   "id": "ef1d18bb",
   "metadata": {},
   "source": []
  },
  {
   "cell_type": "code",
   "execution_count": 233,
   "id": "2b388d4b",
   "metadata": {},
   "outputs": [
    {
     "data": {
      "text/plain": [
       "'00000000000000000000000000000100'"
      ]
     },
     "execution_count": 233,
     "metadata": {},
     "output_type": "execute_result"
    }
   ],
   "source": [
    "Ch(3,4,5)"
   ]
  },
  {
   "cell_type": "markdown",
   "id": "3df65450",
   "metadata": {},
   "source": [
    "Maj(x, y, z)=(x^y)xor(x^z)xor(y^z)\n"
   ]
  },
  {
   "cell_type": "markdown",
   "id": "a3c28daa",
   "metadata": {},
   "source": []
  },
  {
   "cell_type": "code",
   "execution_count": 234,
   "id": "691429a8",
   "metadata": {},
   "outputs": [],
   "source": [
    "def Maj(x,y,z):\n",
    "    input_var = [x,y,z]\n",
    "\n",
    "    and_xy = []\n",
    "    and_xz = []\n",
    "    and_yz = []\n",
    "\n",
    "    result = []\n",
    "\n",
    "    bin_x = bin(x)[2:].zfill(32)\n",
    "    bin_y = bin(y)[2:].zfill(32)\n",
    "    bin_z = bin(z)[2:].zfill(32)\n",
    "\n",
    "    for i in range(32):\n",
    "        and_xy.append(str(int(bin_x[i]) & int(bin_y[i])))\n",
    "\n",
    "        and_xz.append(str(int(bin_x[i]) & int(bin_z[i])))\n",
    "\n",
    "        and_yz.append(str(int(bin_y[i]) & int(bin_z[i])))\n",
    "\n",
    "    #\n",
    "    for i in range(32):\n",
    "        result.append(str(int(and_xy[i]) ^ int(and_xz[i]) ^ int(and_yz[i])))\n",
    "\n",
    "    return ''.join(result)\n",
    "\n",
    "\n"
   ]
  },
  {
   "cell_type": "markdown",
   "id": "3e950a23",
   "metadata": {},
   "source": []
  },
  {
   "cell_type": "code",
   "execution_count": 235,
   "id": "c84d22c0",
   "metadata": {},
   "outputs": [
    {
     "data": {
      "text/plain": [
       "'00000000000000000000000000000101'"
      ]
     },
     "execution_count": 235,
     "metadata": {},
     "output_type": "execute_result"
    }
   ],
   "source": [
    "Maj(3,4,5)"
   ]
  },
  {
   "cell_type": "markdown",
   "id": "989563e1",
   "metadata": {},
   "source": [
    "## Sigma0 function:\n",
    "\n",
    "\n",
    "rotr2(x) xor rotr13(x) xor rotr22(x)\n",
    "\n",
    "'rotrN(x) is defined as (x >> n) | (x << w - n)' where w is the length of the word and n is an integer 0<= n < w'.\n",
    "\n",
    "x is passed into sigma() and converted to a 32 bit integer and is stored as 'xint32'. xint32 is passed to the rotr\n",
    "function 'rotr(n,x)' where n is the degree of the rotation.\n",
    "\n",
    "The rotr function performs a shift to the right by n,(0s get appended to left) and a shift to the left by 32 - n(left most values wrap around to the right), similar to a ring buffer.\n",
    "\n",
    "A bitwise OR operations is performed on theses two values and the result is returned.\n",
    "\n",
    "the values rotr2, rotr13 & rotr22 are stored and used in the final operation which performs and xor on each\n",
    "\n",
    "'rotr2 ^ rotr13 ^ rotr22'."
   ]
  },
  {
   "cell_type": "code",
   "execution_count": null,
   "id": "1576c256",
   "metadata": {},
   "outputs": [],
   "source": [
    "result = []\n",
    "\n",
    "def rotr(n, x):\n",
    "    '''Performs rotation on bit array'''\n",
    "    #bit shifting operations\n",
    "    return((x >> n) | (x << (32 - n)))\n",
    "\n",
    "\n",
    "def Sigma0(x):\n",
    "    '''Sigma0 function which performs a rotation function rotrN(x) where n is an integer and x is w-bit word'''\n",
    "    xint32 = np.uint32(x)\n",
    "    rotr2 = rotr(2,xint32 )\n",
    "    rotr13 = rotr(13,xint32)\n",
    "    rotr22 = rotr(22,xint32)\n",
    "\n",
    "    #xor\n",
    "    return(bin(rotr2 ^ rotr13 ^ rotr22))[2:]\n"
   ]
  },
  {
   "cell_type": "markdown",
   "id": "3505bccb",
   "metadata": {},
   "source": []
  },
  {
   "cell_type": "code",
   "execution_count": null,
   "id": "3c6cc2bd",
   "metadata": {},
   "outputs": [
    {
     "data": {
      "text/plain": [
       "'1100111100111111101010000011101010101011001111111'"
      ]
     },
     "execution_count": 237,
     "metadata": {},
     "output_type": "execute_result"
    }
   ],
   "source": [
    "Sigma0(424242)"
   ]
  },
  {
   "cell_type": "markdown",
   "id": "222d0335",
   "metadata": {},
   "source": []
  },
  {
   "cell_type": "code",
   "execution_count": null,
   "id": "98ce9217",
   "metadata": {},
   "outputs": [],
   "source": [
    "def Sigma1(x):\n",
    "    '''Sigma1 function similar to Sigma0 with different rotation values'''\n",
    "    xint32 = np.uint32(x)\n",
    "\n",
    "    #performing rotations on x\n",
    "    rotr6 = rotr(6,xint32)\n",
    "    rotr11 = rotr(11,xint32)\n",
    "    rotr25 = rotr(25,xint32)\n",
    "\n",
    "    #xor\n",
    "    return(bin(rotr6 ^ rotr11 ^ rotr25))[2:]"
   ]
  },
  {
   "cell_type": "code",
   "execution_count": 239,
   "id": "fd79993e",
   "metadata": {},
   "outputs": [
    {
     "data": {
      "text/plain": [
       "'110010010101111101101011111001000000000101011'"
      ]
     },
     "execution_count": 239,
     "metadata": {},
     "output_type": "execute_result"
    }
   ],
   "source": [
    "Sigma1(424242)"
   ]
  },
  {
   "cell_type": "markdown",
   "id": "53fc1cff",
   "metadata": {},
   "source": [
    "The right shift operation, where x is a w-bit word and n is an integer with 0\n",
    "<= \n",
    "n < w, is defined by SHR n\n",
    "(x)=x >> n."
   ]
  },
  {
   "cell_type": "code",
   "execution_count": 242,
   "id": "1376cb91",
   "metadata": {},
   "outputs": [],
   "source": [
    "def shr(n,x):\n",
    "    return x >> n"
   ]
  },
  {
   "cell_type": "markdown",
   "id": "0964302e",
   "metadata": {},
   "source": [
    "sigma0 function is similar to the previous sigma functions just with different rotation values and a shr operation. Xor is still operated on all function values "
   ]
  },
  {
   "cell_type": "code",
   "execution_count": 247,
   "id": "17413844",
   "metadata": {},
   "outputs": [],
   "source": [
    "def sigma0(x):\n",
    "    xint32 = np.uint32(x)\n",
    "\n",
    "    rotr7 = rotr(7, xint32)\n",
    "    rotr18 = rotr(7, xint32)\n",
    "    shr3 = shr(3, xint32)\n",
    "\n",
    "    return (bin(rotr7 ^ rotr18 ^ shr3))[2:]"
   ]
  },
  {
   "cell_type": "code",
   "execution_count": 248,
   "id": "6053df98",
   "metadata": {},
   "outputs": [
    {
     "data": {
      "text/plain": [
       "'1100111100100110'"
      ]
     },
     "execution_count": 248,
     "metadata": {},
     "output_type": "execute_result"
    }
   ],
   "source": [
    "sigma0(424242)"
   ]
  }
 ],
 "metadata": {
  "kernelspec": {
   "display_name": "Python 3",
   "language": "python",
   "name": "python3"
  },
  "language_info": {
   "codemirror_mode": {
    "name": "ipython",
    "version": 3
   },
   "file_extension": ".py",
   "mimetype": "text/x-python",
   "name": "python",
   "nbconvert_exporter": "python",
   "pygments_lexer": "ipython3",
   "version": "3.12.3"
  }
 },
 "nbformat": 4,
 "nbformat_minor": 5
}

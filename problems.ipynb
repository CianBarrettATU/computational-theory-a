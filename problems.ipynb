{
 "cells": [
  {
   "cell_type": "markdown",
   "id": "6f7860e3",
   "metadata": {},
   "source": [
    "## Computational Theory\n"
   ]
  },
  {
   "cell_type": "markdown",
   "id": "faae59f7",
   "metadata": {},
   "source": [
    "## Binary Words and Operations\n"
   ]
  },
  {
   "cell_type": "code",
   "execution_count": 70,
   "id": "b48f8c4f",
   "metadata": {},
   "outputs": [],
   "source": [
    "import numpy as np\n",
    "from sympy import *\n",
    "import math"
   ]
  },
  {
   "cell_type": "markdown",
   "id": "5e622206",
   "metadata": {},
   "source": [
    "- Parity function:\n",
    "\n",
    "(x xor y xor z)\n"
   ]
  },
  {
   "cell_type": "code",
   "execution_count": 71,
   "id": "fb6ac34e",
   "metadata": {},
   "outputs": [],
   "source": [
    "def Parity(x,y,z):\n",
    "    input_var = [x,y,z]\n",
    "    bin_list = []\n",
    "    for i in input_var:\n",
    "        binary_32bit = bin(i)[2:].zfill(32)\n",
    "        bin_list.append(binary_32bit)\n",
    "\n",
    "    result = []\n",
    "\n",
    "    for bit_position in range(32):\n",
    "        xor_result = int(bin_list[0][bit_position])\n",
    "        for i in range(1, len(bin_list)):\n",
    "            xor_result ^= int(bin_list[i][bit_position])\n",
    "\n",
    "        result.append(str(xor_result)) \n",
    "    \n",
    "    return ''.join(result)\n"
   ]
  },
  {
   "cell_type": "code",
   "execution_count": 72,
   "id": "d2c9f38d",
   "metadata": {},
   "outputs": [
    {
     "data": {
      "text/plain": [
       "'00000000000000000000000001000100'"
      ]
     },
     "execution_count": 72,
     "metadata": {},
     "output_type": "execute_result"
    }
   ],
   "source": [
    "Parity(12,77,5)"
   ]
  },
  {
   "cell_type": "markdown",
   "id": "30d24eee",
   "metadata": {},
   "source": [
    "## Ch (Choose Function):\n",
    "\n",
    "The Ch function takes in three variables in its parameters. The values are treated as 32 bit integers. An exclusive or is performed on the result of (x & y) and (!x & z).\n",
    "\n",
    "First the variables are converted into 32 bit binary arrays and are stored as variables bin_x, bin_y, bin_z. For performing the '&' on x and y iterate over each bit and performs the '&' on each corresponding bit in x and y and stores the result of each in a list 'and_xy'\n",
    "\n",
    "The same is done for x and z but with a not operator on x. This means it changes all 0s to 1s and vice versa on x, this is then stored as not_x. this not_x is then used in an '&' between x and z.\n",
    "\n",
    "An xor is performed on and_xy and andnot_xz for each bit and the result is returned as a 32 bit binary string\n"
   ]
  },
  {
   "cell_type": "markdown",
   "id": "881da72d",
   "metadata": {},
   "source": [
    "Ch(x,y,z) = (x ^ y) xor (!x ^ z)\n"
   ]
  },
  {
   "cell_type": "code",
   "execution_count": 73,
   "id": "ba947682",
   "metadata": {},
   "outputs": [],
   "source": [
    "def Ch(x,y,z):\n",
    "    input_var = [x,y,z]\n",
    "\n",
    "    #storing result of each operation ->\n",
    "    #then perform xor after\n",
    "    and_xy = []\n",
    "    and_notxz = []\n",
    "\n",
    "    result = []\n",
    "\n",
    "    bin_x = bin(x)[2:].zfill(32)\n",
    "    bin_y = bin(y)[2:].zfill(32)\n",
    "    bin_z = bin(z)[2:].zfill(32)\n",
    "\n",
    "    #(x & y)\n",
    "    for i in range(32):\n",
    "        and_xy.append(str(int(bin_x[i]) & (int(bin_y[i]))))\n",
    "\n",
    "    #(not x & z)\n",
    "    for i in range(32):\n",
    "        not_x = '1' if bin_x[i] == '0' else '0'\n",
    "        and_notxz.append(str(int(not_x) & int(bin_z[i])))\n",
    "\n",
    "    #xor \n",
    "    for i in range(32):\n",
    "        result.append(str(int(and_xy[i]) ^ int(and_notxz[i])))\n",
    "        \n",
    "    return ''.join(result)\n"
   ]
  },
  {
   "cell_type": "markdown",
   "id": "ef1d18bb",
   "metadata": {},
   "source": []
  },
  {
   "cell_type": "code",
   "execution_count": 74,
   "id": "2b388d4b",
   "metadata": {},
   "outputs": [
    {
     "data": {
      "text/plain": [
       "'00000000000000000000000000000100'"
      ]
     },
     "execution_count": 74,
     "metadata": {},
     "output_type": "execute_result"
    }
   ],
   "source": [
    "Ch(3,4,5)"
   ]
  },
  {
   "cell_type": "markdown",
   "id": "3df65450",
   "metadata": {},
   "source": [
    "Maj(x, y, z)=(x^y)xor(x^z)xor(y^z)\n"
   ]
  },
  {
   "cell_type": "markdown",
   "id": "a3c28daa",
   "metadata": {},
   "source": []
  },
  {
   "cell_type": "code",
   "execution_count": 75,
   "id": "691429a8",
   "metadata": {},
   "outputs": [],
   "source": [
    "def Maj(x,y,z):\n",
    "    input_var = [x,y,z]\n",
    "\n",
    "    and_xy = []\n",
    "    and_xz = []\n",
    "    and_yz = []\n",
    "\n",
    "    result = []\n",
    "\n",
    "    bin_x = bin(x)[2:].zfill(32)\n",
    "    bin_y = bin(y)[2:].zfill(32)\n",
    "    bin_z = bin(z)[2:].zfill(32)\n",
    "\n",
    "    for i in range(32):\n",
    "        and_xy.append(str(int(bin_x[i]) & int(bin_y[i])))\n",
    "\n",
    "        and_xz.append(str(int(bin_x[i]) & int(bin_z[i])))\n",
    "\n",
    "        and_yz.append(str(int(bin_y[i]) & int(bin_z[i])))\n",
    "\n",
    "    #\n",
    "    for i in range(32):\n",
    "        result.append(str(int(and_xy[i]) ^ int(and_xz[i]) ^ int(and_yz[i])))\n",
    "\n",
    "    return ''.join(result)\n",
    "\n",
    "\n"
   ]
  },
  {
   "cell_type": "markdown",
   "id": "3e950a23",
   "metadata": {},
   "source": []
  },
  {
   "cell_type": "code",
   "execution_count": 76,
   "id": "c84d22c0",
   "metadata": {},
   "outputs": [
    {
     "data": {
      "text/plain": [
       "'00000000000000000000000000000101'"
      ]
     },
     "execution_count": 76,
     "metadata": {},
     "output_type": "execute_result"
    }
   ],
   "source": [
    "Maj(3,4,5)"
   ]
  },
  {
   "cell_type": "markdown",
   "id": "989563e1",
   "metadata": {},
   "source": [
    "## Sigma0 function:\n",
    "\n",
    "\n",
    "rotr2(x) xor rotr13(x) xor rotr22(x)\n",
    "\n",
    "'rotrN(x) is defined as (x >> n) | (x << w - n)' where w is the length of the word and n is an integer 0<= n < w'.\n",
    "\n",
    "x is passed into sigma() and converted to a 32 bit integer and is stored as 'xint32'. xint32 is passed to the rotr\n",
    "function 'rotr(n,x)' where n is the degree of the rotation.\n",
    "\n",
    "The rotr function performs a shift to the right by n,(0s get appended to left) and a shift to the left by 32 - n(left most values wrap around to the right), similar to a ring buffer.\n",
    "\n",
    "A bitwise OR operations is performed on theses two values and the result is returned.\n",
    "\n",
    "the values rotr2, rotr13 & rotr22 are stored and used in the final operation which performs and xor on each\n",
    "\n",
    "'rotr2 ^ rotr13 ^ rotr22'."
   ]
  },
  {
   "cell_type": "code",
   "execution_count": 77,
   "id": "1576c256",
   "metadata": {},
   "outputs": [],
   "source": [
    "result = []\n",
    "\n",
    "def rotr(n, x):\n",
    "    '''Performs rotation on bit array'''\n",
    "    #bit shifting operations\n",
    "    return((x >> n) | (x << (32 - n)))\n",
    "\n",
    "\n",
    "def Sigma0(x):\n",
    "    '''Sigma0 function which performs a rotation function rotrN(x) where n is an integer and x is w-bit word'''\n",
    "    xint32 = np.uint32(x)\n",
    "    rotr2 = rotr(2,xint32 )\n",
    "    rotr13 = rotr(13,xint32)\n",
    "    rotr22 = rotr(22,xint32)\n",
    "\n",
    "    #xor\n",
    "    return(bin(rotr2 ^ rotr13 ^ rotr22))[2:]\n"
   ]
  },
  {
   "cell_type": "markdown",
   "id": "3505bccb",
   "metadata": {},
   "source": []
  },
  {
   "cell_type": "code",
   "execution_count": 78,
   "id": "3c6cc2bd",
   "metadata": {},
   "outputs": [
    {
     "data": {
      "text/plain": [
       "'1010000011101010101011001111111'"
      ]
     },
     "execution_count": 78,
     "metadata": {},
     "output_type": "execute_result"
    }
   ],
   "source": [
    "Sigma0(424242)"
   ]
  },
  {
   "cell_type": "markdown",
   "id": "222d0335",
   "metadata": {},
   "source": []
  },
  {
   "cell_type": "code",
   "execution_count": 79,
   "id": "98ce9217",
   "metadata": {},
   "outputs": [],
   "source": [
    "def Sigma1(x):\n",
    "    '''Sigma1 function similar to Sigma0 with different rotation values'''\n",
    "    xint32 = np.uint32(x)\n",
    "\n",
    "    #performing rotations on x\n",
    "    rotr6 = rotr(6,xint32)\n",
    "    rotr11 = rotr(11,xint32)\n",
    "    rotr25 = rotr(25,xint32)\n",
    "\n",
    "    #xor\n",
    "    return(bin(rotr6 ^ rotr11 ^ rotr25))[2:]"
   ]
  },
  {
   "cell_type": "code",
   "execution_count": 80,
   "id": "fd79993e",
   "metadata": {},
   "outputs": [
    {
     "data": {
      "text/plain": [
       "'11101101011111001000000000101011'"
      ]
     },
     "execution_count": 80,
     "metadata": {},
     "output_type": "execute_result"
    }
   ],
   "source": [
    "Sigma1(424242)"
   ]
  },
  {
   "cell_type": "markdown",
   "id": "53fc1cff",
   "metadata": {},
   "source": [
    "The right shift operation, where x is a w-bit word and n is an integer with 0\n",
    "<= \n",
    "n < w, is defined by SHR n\n",
    "(x)=x >> n."
   ]
  },
  {
   "cell_type": "code",
   "execution_count": 81,
   "id": "1376cb91",
   "metadata": {},
   "outputs": [],
   "source": [
    "def shr(n,x):\n",
    "    return x >> n"
   ]
  },
  {
   "cell_type": "markdown",
   "id": "0964302e",
   "metadata": {},
   "source": [
    "sigma0 function is similar to the previous sigma functions just with different rotation values and a shr operation. Xor is still operated on all function values "
   ]
  },
  {
   "cell_type": "code",
   "execution_count": 82,
   "id": "17413844",
   "metadata": {},
   "outputs": [],
   "source": [
    "def sigma0(x):\n",
    "    xint32 = np.uint32(x)\n",
    "\n",
    "    #rotation\n",
    "    rotr7 = rotr(7, xint32)\n",
    "    rotr18 = rotr(7, xint32)\n",
    "\n",
    "    #shift\n",
    "    shr3 = shr(3, xint32)\n",
    "\n",
    "    #xor\n",
    "    return (bin(rotr7 ^ rotr18 ^ shr3))[2:]"
   ]
  },
  {
   "cell_type": "code",
   "execution_count": 83,
   "id": "6053df98",
   "metadata": {},
   "outputs": [
    {
     "data": {
      "text/plain": [
       "'1100111100100110'"
      ]
     },
     "execution_count": 83,
     "metadata": {},
     "output_type": "execute_result"
    }
   ],
   "source": [
    "sigma0(424242)"
   ]
  },
  {
   "cell_type": "markdown",
   "id": "395e2f5f",
   "metadata": {},
   "source": [
    "sigma1 function identical to sigma0 with different shift and rotation values"
   ]
  },
  {
   "cell_type": "code",
   "execution_count": 84,
   "id": "ea59342d",
   "metadata": {},
   "outputs": [],
   "source": [
    "\n",
    "def sigma1(x):\n",
    "    xint_32 = np.uint32(x)\n",
    "\n",
    "    #rotation\n",
    "    rotr17 = rotr(17,xint_32)\n",
    "    rotr19 = rotr(19,xint_32)\n",
    "\n",
    "    #shift\n",
    "    shr10 = shr(10,xint_32)\n",
    "\n",
    "    #xor\n",
    "    return (bin(rotr17 ^ rotr19 ^ shr10))[2:]"
   ]
  },
  {
   "cell_type": "code",
   "execution_count": 85,
   "id": "52018d9e",
   "metadata": {},
   "outputs": [
    {
     "data": {
      "text/plain": [
       "'11110011101111110100000110011101'"
      ]
     },
     "execution_count": 85,
     "metadata": {},
     "output_type": "execute_result"
    }
   ],
   "source": [
    "sigma1(424242)"
   ]
  },
  {
   "cell_type": "markdown",
   "id": "0cdc99cb-86d2-4528-8b73-015eafe99298",
   "metadata": {},
   "source": [
    "## Problem 2: Fractional part of cube roots\n",
    "\n",
    "\n",
    "Write a function called primes(n) that generates the first n prime numbers.\n",
    "\n",
    "Use the function to calculate the cube root of the first 64 primes.\n",
    "\n",
    "For each cube root, extract the first thirty-two bits of the fractional part.\n",
    "\n",
    "Display the result in hexadecimal.\n",
    "\n",
    "Test the results against what is in the Secure Hash Standard.\n"
   ]
  },
  {
   "cell_type": "code",
   "execution_count": 86,
   "id": "6487b964-3eaf-4aa1-a3a5-1269a95bf381",
   "metadata": {},
   "outputs": [],
   "source": [
    "\n",
    "def primes(n):\n",
    "    primes = []\n",
    "    p = 0\n",
    "    for i in range(n):\n",
    "        #using sympy \n",
    "        if isprime(i):\n",
    "            primes.append(i)\n",
    "            \n",
    "    return primes\n",
    "        "
   ]
  },
  {
   "cell_type": "code",
   "execution_count": 87,
   "id": "69d51969-9704-46f1-8da8-2020f07a9591",
   "metadata": {},
   "outputs": [
    {
     "data": {
      "text/plain": [
       "[2, 3, 5, 7, 11, 13, 17, 19, 23, 29, 31, 37, 41, 43, 47, 53, 59, 61]"
      ]
     },
     "execution_count": 87,
     "metadata": {},
     "output_type": "execute_result"
    }
   ],
   "source": [
    "primes(64)"
   ]
  },
  {
   "cell_type": "code",
   "execution_count": 92,
   "id": "af773827-24b1-4235-9a44-6dcbd5103cf7",
   "metadata": {},
   "outputs": [],
   "source": [
    "def get_cube_root(prime_nums):\n",
    "    cube_roots = []\n",
    "    for p in prime_nums:\n",
    "        p = math.pow(p, 1/3)\n",
    "        cube_roots.append(p)\n",
    "\n",
    "    return cube_roots\n",
    "            "
   ]
  },
  {
   "cell_type": "code",
   "execution_count": 93,
   "id": "1727c5ed-554f-415c-b228-f3d02576c189",
   "metadata": {},
   "outputs": [
    {
     "data": {
      "text/plain": [
       "[1.2599210498948732,\n",
       " 1.4422495703074083,\n",
       " 1.7099759466766968,\n",
       " 1.912931182772389,\n",
       " 2.2239800905693152,\n",
       " 2.3513346877207573,\n",
       " 2.571281590658235,\n",
       " 2.668401648721945,\n",
       " 2.8438669798515654,\n",
       " 3.072316825685847,\n",
       " 3.1413806523913927,\n",
       " 3.332221851645953,\n",
       " 3.4482172403827303,\n",
       " 3.503398060386724,\n",
       " 3.6088260801386944,\n",
       " 3.756285754221072,\n",
       " 3.8929964158732604,\n",
       " 3.936497183102173]"
      ]
     },
     "execution_count": 93,
     "metadata": {},
     "output_type": "execute_result"
    }
   ],
   "source": [
    "get_cube_root(primes(64))"
   ]
  },
  {
   "cell_type": "code",
   "execution_count": null,
   "id": "6122e23d-e88b-496a-893a-7dcc2b03d865",
   "metadata": {},
   "outputs": [],
   "source": []
  },
  {
   "cell_type": "code",
   "execution_count": null,
   "id": "29fddd50-e2ff-4058-a3c2-f3e5c6a76f7e",
   "metadata": {},
   "outputs": [],
   "source": []
  },
  {
   "cell_type": "code",
   "execution_count": null,
   "id": "9f1f920e-3006-467c-bf28-6718ef7ad0c8",
   "metadata": {},
   "outputs": [],
   "source": []
  }
 ],
 "metadata": {
  "kernelspec": {
   "display_name": "Python 3 (ipykernel)",
   "language": "python",
   "name": "python3"
  },
  "language_info": {
   "codemirror_mode": {
    "name": "ipython",
    "version": 3
   },
   "file_extension": ".py",
   "mimetype": "text/x-python",
   "name": "python",
   "nbconvert_exporter": "python",
   "pygments_lexer": "ipython3",
   "version": "3.14.0"
  }
 },
 "nbformat": 4,
 "nbformat_minor": 5
}

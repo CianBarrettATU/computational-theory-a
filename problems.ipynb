{
 "cells": [
  {
   "cell_type": "markdown",
   "id": "6f7860e3",
   "metadata": {},
   "source": [
    "## Computational Theory\n"
   ]
  },
  {
   "cell_type": "markdown",
   "id": "faae59f7",
   "metadata": {},
   "source": [
    "## Binary Words and Operations\n"
   ]
  },
  {
   "cell_type": "markdown",
   "id": "5e622206",
   "metadata": {},
   "source": [
    "- Parity function:\n",
    "\n",
    "(x xor y xor z)\n"
   ]
  },
  {
   "cell_type": "code",
   "execution_count": 62,
   "id": "f8269a48",
   "metadata": {},
   "outputs": [],
   "source": [
    "import numpy as np"
   ]
  },
  {
   "cell_type": "code",
   "execution_count": 63,
   "id": "fb6ac34e",
   "metadata": {},
   "outputs": [],
   "source": [
    "def Parity(x,y,z):\n",
    "    input_var = [x,y,z]\n",
    "    bin_list = []\n",
    "    for i in input_var:\n",
    "        binary_32bit = bin(i)[2:].zfill(32)\n",
    "        bin_list.append(binary_32bit)\n",
    "\n",
    "    result = []\n",
    "\n",
    "    for bit_position in range(32):\n",
    "        xor_result = int(bin_list[0][bit_position])\n",
    "        for i in range(1, len(bin_list)):\n",
    "            xor_result ^= int(bin_list[i][bit_position])\n",
    "\n",
    "        result.append(str(xor_result)) \n",
    "    \n",
    "    return ''.join(result)\n"
   ]
  },
  {
   "cell_type": "code",
   "execution_count": 64,
   "id": "d2c9f38d",
   "metadata": {},
   "outputs": [
    {
     "data": {
      "text/plain": [
       "'00000000000000000000000001000100'"
      ]
     },
     "execution_count": 64,
     "metadata": {},
     "output_type": "execute_result"
    }
   ],
   "source": [
    "Parity(12,77,5)"
   ]
  },
  {
   "cell_type": "markdown",
   "id": "30d24eee",
   "metadata": {},
   "source": [
    "- Ch (Choose Function):\n"
   ]
  },
  {
   "cell_type": "markdown",
   "id": "881da72d",
   "metadata": {},
   "source": [
    "Ch(x,y,z) = (x ^ y) xor (!x ^ z)\n"
   ]
  },
  {
   "cell_type": "markdown",
   "id": "d97feaf4",
   "metadata": {},
   "source": [
    "![Alt text](/Ch.png)"
   ]
  },
  {
   "cell_type": "code",
   "execution_count": 86,
   "id": "ba947682",
   "metadata": {},
   "outputs": [],
   "source": [
    "def Ch(x,y,z):\n",
    "    input_var = [x,y,z]\n",
    "    bin_list = []\n",
    "    for i in input_var:\n",
    "        bin_32_bit = bin(i)[2:].zfill(32)\n",
    "        bin_list.append(bin_32_bit)\n",
    "\n",
    "    #storing result of each operation ->\n",
    "    #then perform xor after\n",
    "    and_xy = []\n",
    "    and_notxz = []\n",
    "\n",
    "    result = []\n",
    "\n",
    "    #(x & y)\n",
    "    for bit_position in range(32):\n",
    "        and_result = int(bin_list[0][bit_position])\n",
    "        for i in range(1, len(bin_list)):\n",
    "            and_result &= int(bin_list[1][bit_position])\n",
    "\n",
    "            and_xy.append(str(and_result))\n",
    "\n",
    "    #(x & z)\n",
    "    for bit_position in range(32):\n",
    "        and_result2 = int(bin_list[0][bit_position]) \n",
    "        for i in range(2, len(bin_list)):\n",
    "            not_x = '1' if bit_position[i] == '0' else '0'\n",
    "            and_result2 &= str(int(not_x)) & int(bin_list[2][bit_position])\n",
    "\n",
    "            and_notxz.append(str(and_result2))\n",
    "\n",
    "    for i in range(32):\n",
    "        result.append(str(int(and_xy[i]) ^ int(and_notxz)))\n",
    "        \n",
    "    return ''.join(result)\n"
   ]
  },
  {
   "cell_type": "markdown",
   "id": "ef1d18bb",
   "metadata": {},
   "source": []
  },
  {
   "cell_type": "code",
   "execution_count": 87,
   "id": "2b388d4b",
   "metadata": {},
   "outputs": [
    {
     "ename": "TypeError",
     "evalue": "'int' object is not subscriptable",
     "output_type": "error",
     "traceback": [
      "\u001b[0;31m---------------------------------------------------------------------------\u001b[0m",
      "\u001b[0;31mTypeError\u001b[0m                                 Traceback (most recent call last)",
      "Cell \u001b[0;32mIn[87], line 1\u001b[0m\n\u001b[0;32m----> 1\u001b[0m \u001b[43mCh\u001b[49m\u001b[43m(\u001b[49m\u001b[38;5;241;43m3\u001b[39;49m\u001b[43m,\u001b[49m\u001b[38;5;241;43m4\u001b[39;49m\u001b[43m,\u001b[49m\u001b[38;5;241;43m5\u001b[39;49m\u001b[43m)\u001b[49m\n",
      "Cell \u001b[0;32mIn[86], line 27\u001b[0m, in \u001b[0;36mCh\u001b[0;34m(x, y, z)\u001b[0m\n\u001b[1;32m     25\u001b[0m and_result2 \u001b[38;5;241m=\u001b[39m \u001b[38;5;28mint\u001b[39m(bin_list[\u001b[38;5;241m0\u001b[39m][bit_position]) \n\u001b[1;32m     26\u001b[0m \u001b[38;5;28;01mfor\u001b[39;00m i \u001b[38;5;129;01min\u001b[39;00m \u001b[38;5;28mrange\u001b[39m(\u001b[38;5;241m2\u001b[39m, \u001b[38;5;28mlen\u001b[39m(bin_list)):\n\u001b[0;32m---> 27\u001b[0m     not_x \u001b[38;5;241m=\u001b[39m \u001b[38;5;124m'\u001b[39m\u001b[38;5;124m1\u001b[39m\u001b[38;5;124m'\u001b[39m \u001b[38;5;28;01mif\u001b[39;00m \u001b[43mbit_position\u001b[49m\u001b[43m[\u001b[49m\u001b[43mi\u001b[49m\u001b[43m]\u001b[49m \u001b[38;5;241m==\u001b[39m \u001b[38;5;124m'\u001b[39m\u001b[38;5;124m0\u001b[39m\u001b[38;5;124m'\u001b[39m \u001b[38;5;28;01melse\u001b[39;00m \u001b[38;5;124m'\u001b[39m\u001b[38;5;124m0\u001b[39m\u001b[38;5;124m'\u001b[39m\n\u001b[1;32m     28\u001b[0m     and_result2 \u001b[38;5;241m&\u001b[39m\u001b[38;5;241m=\u001b[39m \u001b[38;5;28mstr\u001b[39m(\u001b[38;5;28mint\u001b[39m(not_x)) \u001b[38;5;241m&\u001b[39m \u001b[38;5;28mint\u001b[39m(bin_list[\u001b[38;5;241m2\u001b[39m][bit_position])\n\u001b[1;32m     30\u001b[0m     and_notxz\u001b[38;5;241m.\u001b[39mappend(\u001b[38;5;28mstr\u001b[39m(and_result2))\n",
      "\u001b[0;31mTypeError\u001b[0m: 'int' object is not subscriptable"
     ]
    }
   ],
   "source": [
    "Ch(3,4,5)"
   ]
  },
  {
   "cell_type": "markdown",
   "id": "3df65450",
   "metadata": {},
   "source": []
  },
  {
   "cell_type": "markdown",
   "id": "a3c28daa",
   "metadata": {},
   "source": []
  },
  {
   "cell_type": "markdown",
   "id": "3e950a23",
   "metadata": {},
   "source": []
  },
  {
   "cell_type": "markdown",
   "id": "3505bccb",
   "metadata": {},
   "source": []
  }
 ],
 "metadata": {
  "kernelspec": {
   "display_name": "Python 3",
   "language": "python",
   "name": "python3"
  },
  "language_info": {
   "codemirror_mode": {
    "name": "ipython",
    "version": 3
   },
   "file_extension": ".py",
   "mimetype": "text/x-python",
   "name": "python",
   "nbconvert_exporter": "python",
   "pygments_lexer": "ipython3",
   "version": "3.12.3"
  }
 },
 "nbformat": 4,
 "nbformat_minor": 5
}

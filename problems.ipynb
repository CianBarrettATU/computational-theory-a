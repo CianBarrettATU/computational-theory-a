{
 "cells": [
  {
   "cell_type": "markdown",
   "id": "6f7860e3",
   "metadata": {},
   "source": [
    "## Computational Theory\n"
   ]
  },
  {
   "cell_type": "markdown",
   "id": "faae59f7",
   "metadata": {},
   "source": [
    "## Binary Words and Operations\n"
   ]
  },
  {
   "cell_type": "code",
   "execution_count": 133,
   "id": "b48f8c4f",
   "metadata": {},
   "outputs": [],
   "source": [
    "import numpy as np\n",
    "from sympy import *\n",
    "import math"
   ]
  },
  {
   "cell_type": "markdown",
   "id": "5e622206",
   "metadata": {},
   "source": [
    "- Parity function:\n",
    "\n",
    "(x xor y xor z)\n"
   ]
  },
  {
   "cell_type": "code",
   "execution_count": 134,
   "id": "fb6ac34e",
   "metadata": {},
   "outputs": [],
   "source": [
    "def Parity(x,y,z):\n",
    "    input_var = [x,y,z]\n",
    "    bin_list = []\n",
    "    for i in input_var:\n",
    "        binary_32bit = bin(i)[2:].zfill(32)\n",
    "        bin_list.append(binary_32bit)\n",
    "\n",
    "    result = []\n",
    "\n",
    "    for bit_position in range(32):\n",
    "        xor_result = int(bin_list[0][bit_position])\n",
    "        for i in range(1, len(bin_list)):\n",
    "            xor_result ^= int(bin_list[i][bit_position])\n",
    "\n",
    "        result.append(str(xor_result)) \n",
    "    \n",
    "    return ''.join(result)\n"
   ]
  },
  {
   "cell_type": "code",
   "execution_count": 135,
   "id": "d2c9f38d",
   "metadata": {},
   "outputs": [
    {
     "data": {
      "text/plain": [
       "'00000000000000000000000001000100'"
      ]
     },
     "execution_count": 135,
     "metadata": {},
     "output_type": "execute_result"
    }
   ],
   "source": [
    "Parity(12,77,5)"
   ]
  },
  {
   "cell_type": "markdown",
   "id": "30d24eee",
   "metadata": {},
   "source": [
    "## Ch (Choose Function):\n",
    "\n",
    "The Ch function takes in three variables in its parameters. The values are treated as 32 bit integers. An exclusive or is performed on the result of (x & y) and (!x & z).\n",
    "\n",
    "First the variables are converted into 32 bit binary arrays and are stored as variables bin_x, bin_y, bin_z. For performing the '&' on x and y iterate over each bit and performs the '&' on each corresponding bit in x and y and stores the result of each in a list 'and_xy'\n",
    "\n",
    "The same is done for x and z but with a not operator on x. This means it changes all 0s to 1s and vice versa on x, this is then stored as not_x. this not_x is then used in an '&' between x and z.\n",
    "\n",
    "An xor is performed on and_xy and andnot_xz for each bit and the result is returned as a 32 bit binary string\n"
   ]
  },
  {
   "cell_type": "markdown",
   "id": "881da72d",
   "metadata": {},
   "source": [
    "Ch(x,y,z) = (x ^ y) xor (!x ^ z)\n"
   ]
  },
  {
   "cell_type": "code",
   "execution_count": 136,
   "id": "ba947682",
   "metadata": {},
   "outputs": [],
   "source": [
    "def Ch(x,y,z):\n",
    "    input_var = [x,y,z]\n",
    "\n",
    "    #storing result of each operation ->\n",
    "    #then perform xor after\n",
    "    and_xy = []\n",
    "    and_notxz = []\n",
    "\n",
    "    result = []\n",
    "\n",
    "    bin_x = bin(x)[2:].zfill(32)\n",
    "    bin_y = bin(y)[2:].zfill(32)\n",
    "    bin_z = bin(z)[2:].zfill(32)\n",
    "\n",
    "    #(x & y)\n",
    "    for i in range(32):\n",
    "        and_xy.append(str(int(bin_x[i]) & (int(bin_y[i]))))\n",
    "\n",
    "    #(not x & z)\n",
    "    for i in range(32):\n",
    "        not_x = '1' if bin_x[i] == '0' else '0'\n",
    "        and_notxz.append(str(int(not_x) & int(bin_z[i])))\n",
    "\n",
    "    #xor \n",
    "    for i in range(32):\n",
    "        result.append(str(int(and_xy[i]) ^ int(and_notxz[i])))\n",
    "        \n",
    "    return ''.join(result)\n"
   ]
  },
  {
   "cell_type": "markdown",
   "id": "ef1d18bb",
   "metadata": {},
   "source": []
  },
  {
   "cell_type": "code",
   "execution_count": 137,
   "id": "2b388d4b",
   "metadata": {},
   "outputs": [
    {
     "data": {
      "text/plain": [
       "'00000000000000000000000000000100'"
      ]
     },
     "execution_count": 137,
     "metadata": {},
     "output_type": "execute_result"
    }
   ],
   "source": [
    "Ch(3,4,5)"
   ]
  },
  {
   "cell_type": "markdown",
   "id": "3df65450",
   "metadata": {},
   "source": [
    "Maj(x, y, z)=(x^y)xor(x^z)xor(y^z)\n"
   ]
  },
  {
   "cell_type": "markdown",
   "id": "a3c28daa",
   "metadata": {},
   "source": []
  },
  {
   "cell_type": "code",
   "execution_count": 138,
   "id": "691429a8",
   "metadata": {},
   "outputs": [],
   "source": [
    "def Maj(x,y,z):\n",
    "    input_var = [x,y,z]\n",
    "\n",
    "    and_xy = []\n",
    "    and_xz = []\n",
    "    and_yz = []\n",
    "\n",
    "    result = []\n",
    "\n",
    "    bin_x = bin(x)[2:].zfill(32)\n",
    "    bin_y = bin(y)[2:].zfill(32)\n",
    "    bin_z = bin(z)[2:].zfill(32)\n",
    "\n",
    "    for i in range(32):\n",
    "        and_xy.append(str(int(bin_x[i]) & int(bin_y[i])))\n",
    "\n",
    "        and_xz.append(str(int(bin_x[i]) & int(bin_z[i])))\n",
    "\n",
    "        and_yz.append(str(int(bin_y[i]) & int(bin_z[i])))\n",
    "\n",
    "    #\n",
    "    for i in range(32):\n",
    "        result.append(str(int(and_xy[i]) ^ int(and_xz[i]) ^ int(and_yz[i])))\n",
    "\n",
    "    return ''.join(result)\n",
    "\n",
    "\n"
   ]
  },
  {
   "cell_type": "markdown",
   "id": "3e950a23",
   "metadata": {},
   "source": []
  },
  {
   "cell_type": "code",
   "execution_count": 139,
   "id": "c84d22c0",
   "metadata": {},
   "outputs": [
    {
     "data": {
      "text/plain": [
       "'00000000000000000000000000000101'"
      ]
     },
     "execution_count": 139,
     "metadata": {},
     "output_type": "execute_result"
    }
   ],
   "source": [
    "Maj(3,4,5)"
   ]
  },
  {
   "cell_type": "markdown",
   "id": "989563e1",
   "metadata": {},
   "source": [
    "## Sigma0 function:\n",
    "\n",
    "\n",
    "rotr2(x) xor rotr13(x) xor rotr22(x)\n",
    "\n",
    "'rotrN(x) is defined as (x >> n) | (x << w - n)' where w is the length of the word and n is an integer 0<= n < w'.\n",
    "\n",
    "x is passed into sigma() and converted to a 32 bit integer and is stored as 'xint32'. xint32 is passed to the rotr\n",
    "function 'rotr(n,x)' where n is the degree of the rotation.\n",
    "\n",
    "The rotr function performs a shift to the right by n,(0s get appended to left) and a shift to the left by 32 - n(left most values wrap around to the right), similar to a ring buffer.\n",
    "\n",
    "A bitwise OR operations is performed on theses two values and the result is returned.\n",
    "\n",
    "the values rotr2, rotr13 & rotr22 are stored and used in the final operation which performs and xor on each\n",
    "\n",
    "'rotr2 ^ rotr13 ^ rotr22'."
   ]
  },
  {
   "cell_type": "code",
   "execution_count": 140,
   "id": "1576c256",
   "metadata": {},
   "outputs": [],
   "source": [
    "result = []\n",
    "\n",
    "def rotr(n, x):\n",
    "    '''Performs rotation on bit array'''\n",
    "    #bit shifting operations\n",
    "    return((x >> n) | (x << (32 - n)))\n",
    "\n",
    "\n",
    "def Sigma0(x):\n",
    "    '''Sigma0 function which performs a rotation function rotrN(x) where n is an integer and x is w-bit word'''\n",
    "    xint32 = np.uint32(x)\n",
    "    rotr2 = rotr(2,xint32 )\n",
    "    rotr13 = rotr(13,xint32)\n",
    "    rotr22 = rotr(22,xint32)\n",
    "\n",
    "    #xor\n",
    "    return(bin(rotr2 ^ rotr13 ^ rotr22))[2:]\n"
   ]
  },
  {
   "cell_type": "markdown",
   "id": "3505bccb",
   "metadata": {},
   "source": []
  },
  {
   "cell_type": "code",
   "execution_count": 141,
   "id": "3c6cc2bd",
   "metadata": {},
   "outputs": [
    {
     "data": {
      "text/plain": [
       "'1010000011101010101011001111111'"
      ]
     },
     "execution_count": 141,
     "metadata": {},
     "output_type": "execute_result"
    }
   ],
   "source": [
    "Sigma0(424242)"
   ]
  },
  {
   "cell_type": "markdown",
   "id": "222d0335",
   "metadata": {},
   "source": []
  },
  {
   "cell_type": "code",
   "execution_count": 142,
   "id": "98ce9217",
   "metadata": {},
   "outputs": [],
   "source": [
    "def Sigma1(x):\n",
    "    '''Sigma1 function similar to Sigma0 with different rotation values'''\n",
    "    xint32 = np.uint32(x)\n",
    "\n",
    "    #performing rotations on x\n",
    "    rotr6 = rotr(6,xint32)\n",
    "    rotr11 = rotr(11,xint32)\n",
    "    rotr25 = rotr(25,xint32)\n",
    "\n",
    "    #xor\n",
    "    return(bin(rotr6 ^ rotr11 ^ rotr25))[2:]"
   ]
  },
  {
   "cell_type": "code",
   "execution_count": 143,
   "id": "fd79993e",
   "metadata": {},
   "outputs": [
    {
     "data": {
      "text/plain": [
       "'11101101011111001000000000101011'"
      ]
     },
     "execution_count": 143,
     "metadata": {},
     "output_type": "execute_result"
    }
   ],
   "source": [
    "Sigma1(424242)"
   ]
  },
  {
   "cell_type": "markdown",
   "id": "53fc1cff",
   "metadata": {},
   "source": [
    "The right shift operation, where x is a w-bit word and n is an integer with 0\n",
    "<= \n",
    "n < w, is defined by SHR n\n",
    "(x)=x >> n."
   ]
  },
  {
   "cell_type": "code",
   "execution_count": 144,
   "id": "1376cb91",
   "metadata": {},
   "outputs": [],
   "source": [
    "def shr(n,x):\n",
    "    return x >> n"
   ]
  },
  {
   "cell_type": "markdown",
   "id": "0964302e",
   "metadata": {},
   "source": [
    "sigma0 function is similar to the previous sigma functions just with different rotation values and a shr operation. Xor is still operated on all function values "
   ]
  },
  {
   "cell_type": "code",
   "execution_count": 145,
   "id": "17413844",
   "metadata": {},
   "outputs": [],
   "source": [
    "def sigma0(x):\n",
    "    xint32 = np.uint32(x)\n",
    "\n",
    "    #rotation\n",
    "    rotr7 = rotr(7, xint32)\n",
    "    rotr18 = rotr(7, xint32)\n",
    "\n",
    "    #shift\n",
    "    shr3 = shr(3, xint32)\n",
    "\n",
    "    #xor\n",
    "    return (bin(rotr7 ^ rotr18 ^ shr3))[2:]"
   ]
  },
  {
   "cell_type": "code",
   "execution_count": 146,
   "id": "6053df98",
   "metadata": {},
   "outputs": [
    {
     "data": {
      "text/plain": [
       "'1100111100100110'"
      ]
     },
     "execution_count": 146,
     "metadata": {},
     "output_type": "execute_result"
    }
   ],
   "source": [
    "sigma0(424242)"
   ]
  },
  {
   "cell_type": "markdown",
   "id": "395e2f5f",
   "metadata": {},
   "source": [
    "sigma1 function identical to sigma0 with different shift and rotation values"
   ]
  },
  {
   "cell_type": "code",
   "execution_count": 147,
   "id": "ea59342d",
   "metadata": {},
   "outputs": [],
   "source": [
    "\n",
    "def sigma1(x):\n",
    "    xint_32 = np.uint32(x)\n",
    "\n",
    "    #rotation\n",
    "    rotr17 = rotr(17,xint_32)\n",
    "    rotr19 = rotr(19,xint_32)\n",
    "\n",
    "    #shift\n",
    "    shr10 = shr(10,xint_32)\n",
    "\n",
    "    #xor\n",
    "    return (bin(rotr17 ^ rotr19 ^ shr10))[2:]"
   ]
  },
  {
   "cell_type": "code",
   "execution_count": 148,
   "id": "52018d9e",
   "metadata": {},
   "outputs": [
    {
     "data": {
      "text/plain": [
       "'11110011101111110100000110011101'"
      ]
     },
     "execution_count": 148,
     "metadata": {},
     "output_type": "execute_result"
    }
   ],
   "source": [
    "sigma1(424242)"
   ]
  },
  {
   "cell_type": "markdown",
   "id": "0cdc99cb-86d2-4528-8b73-015eafe99298",
   "metadata": {},
   "source": [
    "## Problem 2: Fractional part of cube roots\n",
    "\n",
    "\n",
    "Write a function called primes(n) that generates the first n prime numbers.\n",
    "\n",
    "Use the function to calculate the cube root of the first 64 primes.\n",
    "\n",
    "For each cube root, extract the first thirty-two bits of the fractional part.\n",
    "\n",
    "Display the result in hexadecimal.\n",
    "\n",
    "Test the results against what is in the Secure Hash Standard.\n"
   ]
  },
  {
   "cell_type": "code",
   "execution_count": 149,
   "id": "6487b964-3eaf-4aa1-a3a5-1269a95bf381",
   "metadata": {},
   "outputs": [],
   "source": [
    "\n",
    "def get_primes(n):\n",
    "    primes = []\n",
    "    p = 0\n",
    "    for i in range(n):\n",
    "        #using sympy \n",
    "        if isprime(i):\n",
    "            primes.append(i)\n",
    "            \n",
    "    return primes\n",
    "        "
   ]
  },
  {
   "cell_type": "code",
   "execution_count": 150,
   "id": "69d51969-9704-46f1-8da8-2020f07a9591",
   "metadata": {},
   "outputs": [
    {
     "data": {
      "text/plain": [
       "[2, 3, 5, 7, 11, 13, 17, 19, 23, 29, 31, 37, 41, 43, 47, 53, 59, 61]"
      ]
     },
     "execution_count": 150,
     "metadata": {},
     "output_type": "execute_result"
    }
   ],
   "source": [
    "get_primes(64)"
   ]
  },
  {
   "cell_type": "code",
   "execution_count": 151,
   "id": "af773827-24b1-4235-9a44-6dcbd5103cf7",
   "metadata": {},
   "outputs": [],
   "source": [
    "def get_cube_root(prime_nums):\n",
    "    cube_roots = []\n",
    "    for p in prime_nums:\n",
    "        p = math.pow(p, 1/3)\n",
    "        cube_roots.append(p)\n",
    "\n",
    "    return cube_roots\n",
    "            "
   ]
  },
  {
   "cell_type": "code",
   "execution_count": 152,
   "id": "4ea0550b-e856-450a-8edc-3667e88fffb5",
   "metadata": {},
   "outputs": [
    {
     "data": {
      "text/plain": [
       "[1.2599210498948732,\n",
       " 1.4422495703074083,\n",
       " 1.7099759466766968,\n",
       " 1.912931182772389,\n",
       " 2.2239800905693152,\n",
       " 2.3513346877207573,\n",
       " 2.571281590658235,\n",
       " 2.668401648721945,\n",
       " 2.8438669798515654,\n",
       " 3.072316825685847,\n",
       " 3.1413806523913927,\n",
       " 3.332221851645953,\n",
       " 3.4482172403827303,\n",
       " 3.503398060386724,\n",
       " 3.6088260801386944,\n",
       " 3.756285754221072,\n",
       " 3.8929964158732604,\n",
       " 3.936497183102173]"
      ]
     },
     "execution_count": 152,
     "metadata": {},
     "output_type": "execute_result"
    }
   ],
   "source": [
    "get_cube_root(get_primes(64))"
   ]
  },
  {
   "cell_type": "code",
   "execution_count": 153,
   "id": "1727c5ed-554f-415c-b228-f3d02576c189",
   "metadata": {},
   "outputs": [],
   "source": [
    "cube_roots = get_cube_root(get_primes(64))"
   ]
  },
  {
   "cell_type": "code",
   "execution_count": 154,
   "id": "6122e23d-e88b-496a-893a-7dcc2b03d865",
   "metadata": {},
   "outputs": [],
   "source": [
    "def extract_32bit(cube_roots):\n",
    "    extracted32b = []\n",
    "    for cube_root in cube_roots:\n",
    "        bit_fraction = cube_root % 1\n",
    "        fix_point = int(bit_fraction * 2**32)\n",
    "        bin_string = bin(fix_point)[2:].zfill(32)\n",
    "        extracted32b.append(bin_string)\n",
    "        \n",
    "        \n",
    "    return extracted32b"
   ]
  },
  {
   "cell_type": "code",
   "execution_count": 155,
   "id": "9f1f920e-3006-467c-bf28-6718ef7ad0c8",
   "metadata": {},
   "outputs": [
    {
     "data": {
      "text/plain": [
       "['01000010100010100010111110011000',\n",
       " '01110001001101110100010010010001',\n",
       " '10110101110000001111101111001111',\n",
       " '11101001101101011101101110100101',\n",
       " '00111001010101101100001001011011',\n",
       " '01011001111100010001000111110001',\n",
       " '10010010001111111000001010100100',\n",
       " '10101011000111000101111011010101',\n",
       " '11011000000001111010101010011000',\n",
       " '00010010100000110101101100000001',\n",
       " '00100100001100011000010110111110',\n",
       " '01010101000011000111110111000011',\n",
       " '01110010101111100101110101110100',\n",
       " '10000000110111101011000111111110',\n",
       " '10011011110111000000011010100111',\n",
       " '11000001100110111111000101110100',\n",
       " '11100100100110110110100111000001',\n",
       " '11101111101111100100011110000110']"
      ]
     },
     "execution_count": 155,
     "metadata": {},
     "output_type": "execute_result"
    }
   ],
   "source": [
    "extract_32bit(cube_roots)"
   ]
  },
  {
   "cell_type": "code",
   "execution_count": 156,
   "id": "0f513cb6-dccf-4f40-976c-966c2afe1679",
   "metadata": {},
   "outputs": [],
   "source": [
    "binary = extract_32bit(cube_roots)"
   ]
  },
  {
   "cell_type": "code",
   "execution_count": 157,
   "id": "8fdcdcd7-d7f2-4e70-b1ea-b9e07b327f23",
   "metadata": {},
   "outputs": [],
   "source": [
    "def bin_to_hex(binary):\n",
    "    hexedecimal_roots = []\n",
    "    for b in binary:\n",
    "        hex_str = hex(int(b,2))[2:].zfill(8)\n",
    "        hexedecimal_roots.append(hex_str)\n",
    "\n",
    "    return hexedecimal_roots"
   ]
  },
  {
   "cell_type": "code",
   "execution_count": 158,
   "id": "5345e0b5-98f9-4e6f-979e-f057e2c041fb",
   "metadata": {},
   "outputs": [
    {
     "data": {
      "text/plain": [
       "['428a2f98',\n",
       " '71374491',\n",
       " 'b5c0fbcf',\n",
       " 'e9b5dba5',\n",
       " '3956c25b',\n",
       " '59f111f1',\n",
       " '923f82a4',\n",
       " 'ab1c5ed5',\n",
       " 'd807aa98',\n",
       " '12835b01',\n",
       " '243185be',\n",
       " '550c7dc3',\n",
       " '72be5d74',\n",
       " '80deb1fe',\n",
       " '9bdc06a7',\n",
       " 'c19bf174',\n",
       " 'e49b69c1',\n",
       " 'efbe4786']"
      ]
     },
     "execution_count": 158,
     "metadata": {},
     "output_type": "execute_result"
    }
   ],
   "source": [
    "bin_to_hex(binary)"
   ]
  },
  {
   "cell_type": "code",
   "execution_count": null,
   "id": "0ff1058d-28f4-43d2-959a-86fb27375cc3",
   "metadata": {},
   "outputs": [],
   "source": []
  },
  {
   "cell_type": "code",
   "execution_count": null,
   "id": "ea2d6118-c115-4b73-bf90-4a8ea932310b",
   "metadata": {},
   "outputs": [],
   "source": [
    "\n",
    "\n"
   ]
  },
  {
   "cell_type": "code",
   "execution_count": null,
   "id": "562ff77c-a796-4a7f-b617-165d1f85232e",
   "metadata": {},
   "outputs": [],
   "source": []
  },
  {
   "cell_type": "code",
   "execution_count": null,
   "id": "822ae9d3-c13a-4d21-b0a2-0eb3b47d3771",
   "metadata": {},
   "outputs": [],
   "source": []
  },
  {
   "cell_type": "code",
   "execution_count": null,
   "id": "d7109047-0177-4eec-a976-1a122caff84b",
   "metadata": {},
   "outputs": [],
   "source": []
  },
  {
   "cell_type": "code",
   "execution_count": null,
   "id": "1768ab8a-01f1-4256-b685-f5a7dc9a4cce",
   "metadata": {},
   "outputs": [],
   "source": []
  },
  {
   "cell_type": "code",
   "execution_count": null,
   "id": "439c18b1-6b09-40b8-9f03-086ff3fd12fa",
   "metadata": {},
   "outputs": [],
   "source": []
  },
  {
   "cell_type": "code",
   "execution_count": null,
   "id": "78cbe733-9b15-401c-8b6a-e1e196859fbd",
   "metadata": {},
   "outputs": [],
   "source": []
  },
  {
   "cell_type": "code",
   "execution_count": null,
   "id": "53bdd689-15f5-4493-8044-e0e94de81c49",
   "metadata": {},
   "outputs": [],
   "source": []
  },
  {
   "cell_type": "code",
   "execution_count": null,
   "id": "222ec09d-7ae0-4055-8ce5-a465f16de238",
   "metadata": {},
   "outputs": [],
   "source": []
  },
  {
   "cell_type": "code",
   "execution_count": null,
   "id": "d99f0193-5a31-48bc-b42c-316fb1e6943a",
   "metadata": {},
   "outputs": [],
   "source": []
  },
  {
   "cell_type": "code",
   "execution_count": null,
   "id": "fca9509e-8009-47ee-8657-22c893d0b04c",
   "metadata": {},
   "outputs": [],
   "source": []
  },
  {
   "cell_type": "code",
   "execution_count": null,
   "id": "046b6ce4-ff56-4d95-80ae-3475340c6f0f",
   "metadata": {},
   "outputs": [],
   "source": []
  },
  {
   "cell_type": "code",
   "execution_count": null,
   "id": "1b68e459-2113-45c3-aa3a-c54b43215d0d",
   "metadata": {},
   "outputs": [],
   "source": []
  },
  {
   "cell_type": "code",
   "execution_count": null,
   "id": "6039a83c-0724-419f-9d1c-af19677fd022",
   "metadata": {},
   "outputs": [],
   "source": []
  },
  {
   "cell_type": "code",
   "execution_count": null,
   "id": "4fd64715-a5c5-4568-9f6e-44b04f4b2bd9",
   "metadata": {},
   "outputs": [],
   "source": []
  },
  {
   "cell_type": "code",
   "execution_count": null,
   "id": "c37b94c3-eab0-4904-b498-98639641bb6c",
   "metadata": {},
   "outputs": [],
   "source": []
  },
  {
   "cell_type": "code",
   "execution_count": null,
   "id": "b062d3c3-b3c8-45e7-a506-5fc5ff783fe7",
   "metadata": {},
   "outputs": [],
   "source": []
  },
  {
   "cell_type": "code",
   "execution_count": null,
   "id": "8be44971-4687-44d9-8786-9b918da0d01d",
   "metadata": {},
   "outputs": [],
   "source": []
  },
  {
   "cell_type": "code",
   "execution_count": null,
   "id": "acd6eb69-2b73-48fe-960d-f0b94e831c0c",
   "metadata": {},
   "outputs": [],
   "source": []
  },
  {
   "cell_type": "code",
   "execution_count": null,
   "id": "35812ec8-9ecd-4981-95dd-769353fd43d2",
   "metadata": {},
   "outputs": [],
   "source": []
  },
  {
   "cell_type": "code",
   "execution_count": null,
   "id": "63523cc4-69ec-4bde-bab7-3c4a639bb822",
   "metadata": {},
   "outputs": [],
   "source": []
  },
  {
   "cell_type": "code",
   "execution_count": null,
   "id": "27e05d89-40f3-42fe-b20d-d75dafbe5e2f",
   "metadata": {},
   "outputs": [],
   "source": []
  }
 ],
 "metadata": {
  "kernelspec": {
   "display_name": "Python 3 (ipykernel)",
   "language": "python",
   "name": "python3"
  },
  "language_info": {
   "codemirror_mode": {
    "name": "ipython",
    "version": 3
   },
   "file_extension": ".py",
   "mimetype": "text/x-python",
   "name": "python",
   "nbconvert_exporter": "python",
   "pygments_lexer": "ipython3",
   "version": "3.14.0"
  }
 },
 "nbformat": 4,
 "nbformat_minor": 5
}

{
 "cells": [
  {
   "cell_type": "markdown",
   "id": "6f7860e3",
   "metadata": {},
   "source": [
    "## Computational Theory\n"
   ]
  },
  {
   "cell_type": "markdown",
   "id": "faae59f7",
   "metadata": {},
   "source": [
    "## Binary Words and Operations\n"
   ]
  },
  {
   "cell_type": "markdown",
   "id": "5e622206",
   "metadata": {},
   "source": [
    "- Parity function:\n",
    "\n",
    "(x xor y xor z)\n"
   ]
  },
  {
   "cell_type": "code",
   "execution_count": 113,
   "id": "f8269a48",
   "metadata": {},
   "outputs": [],
   "source": [
    "import numpy as np"
   ]
  },
  {
   "cell_type": "code",
   "execution_count": 114,
   "id": "fb6ac34e",
   "metadata": {},
   "outputs": [],
   "source": [
    "def Parity(x,y,z):\n",
    "    input_var = [x,y,z]\n",
    "    bin_list = []\n",
    "    for i in input_var:\n",
    "        binary_32bit = bin(i)[2:].zfill(32)\n",
    "        bin_list.append(binary_32bit)\n",
    "\n",
    "    result = []\n",
    "\n",
    "    for bit_position in range(32):\n",
    "        xor_result = int(bin_list[0][bit_position])\n",
    "        for i in range(1, len(bin_list)):\n",
    "            xor_result ^= int(bin_list[i][bit_position])\n",
    "\n",
    "        result.append(str(xor_result)) \n",
    "    \n",
    "    return ''.join(result)\n"
   ]
  },
  {
   "cell_type": "code",
   "execution_count": 115,
   "id": "d2c9f38d",
   "metadata": {},
   "outputs": [
    {
     "data": {
      "text/plain": [
       "'00000000000000000000000001000100'"
      ]
     },
     "execution_count": 115,
     "metadata": {},
     "output_type": "execute_result"
    }
   ],
   "source": [
    "Parity(12,77,5)"
   ]
  },
  {
   "cell_type": "markdown",
   "id": "30d24eee",
   "metadata": {},
   "source": [
    "- Ch (Choose Function):\n"
   ]
  },
  {
   "cell_type": "markdown",
   "id": "881da72d",
   "metadata": {},
   "source": [
    "Ch(x,y,z) = (x ^ y) xor (!x ^ z)\n"
   ]
  },
  {
   "cell_type": "markdown",
   "id": "d97feaf4",
   "metadata": {},
   "source": [
    "![Alt text](/Ch.png)"
   ]
  },
  {
   "cell_type": "code",
   "execution_count": 116,
   "id": "ba947682",
   "metadata": {},
   "outputs": [
    {
     "data": {
      "text/plain": [
       "\"\\n    #(x & y)\\n    for bit_position in range(32):\\n        and_result = int(bin_list[0][bit_position])\\n        for i in range(1, len(bin_list)):\\n            and_result &= int(bin_list[1][bit_position])\\n\\n            and_xy.append(str(and_result))\\n\\n    #(x & z)\\n    for bit_position in range(32):\\n        and_result2 = int(bin_list[0][bit_position]) \\n        for i in range(2, len(bin_list)):\\n            not_x = '1' if bit_position[i] == '0' else '0'\\n            and_result2 &= str(int(not_x)) & int(bin_list[2][bit_position])\\n\\n            and_notxz.append(str(and_result2))\\n\\n    for i in range(32):\\n        result.append(str(int(and_xy[i]) ^ int(and_notxz)))\\n        \\n    return ''.join(result)\\n    \""
      ]
     },
     "execution_count": 116,
     "metadata": {},
     "output_type": "execute_result"
    }
   ],
   "source": [
    "def Ch(x,y,z):\n",
    "    input_var = [x,y,z]\n",
    "    bin_list = []\n",
    "    for i in input_var:\n",
    "        bin_32_bit = bin(i)[2:].zfill(32)\n",
    "        bin_list.append(bin_32_bit)\n",
    "\n",
    "    #storing result of each operation ->\n",
    "    #then perform xor after\n",
    "    and_xy = []\n",
    "    and_notxz = []\n",
    "\n",
    "    result = []\n",
    "\n",
    "    bin_x = bin(x)[2:].zfill(32)\n",
    "    bin_y = bin(y)[2:].zfill(32)\n",
    "    bin_z = bin(z)[2:].zfill(32)\n",
    "\n",
    "    #(x & y)\n",
    "    for i in range(32):\n",
    "        and_xy.append(str(int(bin_x[i]) & (int(bin_y[i]))))\n",
    "\n",
    "    #(not x & y)\n",
    "    for i in range(32):\n",
    "        not_x = '1' if bin_x[i] == '0' else '0'\n",
    "        and_notxz.append(str(int(not_x) & int(bin_z[i])))\n",
    "\n",
    "    #xor \n",
    "    for i in range(32):\n",
    "        result.append(str(int(and_xy[i]) ^ int(and_notxz[i])))\n",
    "        \n",
    "    return ''.join(result)\n",
    "\n",
    "'''\n",
    "    #(x & y)\n",
    "    for bit_position in range(32):\n",
    "        and_result = int(bin_list[0][bit_position])\n",
    "        for i in range(1, len(bin_list)):\n",
    "            and_result &= int(bin_list[1][bit_position])\n",
    "\n",
    "            and_xy.append(str(and_result))\n",
    "\n",
    "    #(x & z)\n",
    "    for bit_position in range(32):\n",
    "        and_result2 = int(bin_list[0][bit_position]) \n",
    "        for i in range(2, len(bin_list)):\n",
    "            not_x = '1' if bit_position[i] == '0' else '0'\n",
    "            and_result2 &= str(int(not_x)) & int(bin_list[2][bit_position])\n",
    "\n",
    "            and_notxz.append(str(and_result2))\n",
    "\n",
    "    for i in range(32):\n",
    "        result.append(str(int(and_xy[i]) ^ int(and_notxz)))\n",
    "        \n",
    "    return ''.join(result)\n",
    "    '''\n"
   ]
  },
  {
   "cell_type": "markdown",
   "id": "ef1d18bb",
   "metadata": {},
   "source": []
  },
  {
   "cell_type": "code",
   "execution_count": 117,
   "id": "2b388d4b",
   "metadata": {},
   "outputs": [
    {
     "data": {
      "text/plain": [
       "'00000000000000000000000000000100'"
      ]
     },
     "execution_count": 117,
     "metadata": {},
     "output_type": "execute_result"
    }
   ],
   "source": [
    "Ch(3,4,5)"
   ]
  },
  {
   "cell_type": "markdown",
   "id": "3df65450",
   "metadata": {},
   "source": []
  },
  {
   "cell_type": "markdown",
   "id": "a3c28daa",
   "metadata": {},
   "source": []
  },
  {
   "cell_type": "markdown",
   "id": "3e950a23",
   "metadata": {},
   "source": []
  },
  {
   "cell_type": "markdown",
   "id": "3505bccb",
   "metadata": {},
   "source": []
  }
 ],
 "metadata": {
  "kernelspec": {
   "display_name": "Python 3",
   "language": "python",
   "name": "python3"
  },
  "language_info": {
   "codemirror_mode": {
    "name": "ipython",
    "version": 3
   },
   "file_extension": ".py",
   "mimetype": "text/x-python",
   "name": "python",
   "nbconvert_exporter": "python",
   "pygments_lexer": "ipython3",
   "version": "3.12.3"
  }
 },
 "nbformat": 4,
 "nbformat_minor": 5
}

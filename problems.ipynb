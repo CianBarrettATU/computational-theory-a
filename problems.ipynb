{
 "cells": [
  {
   "cell_type": "markdown",
   "id": "6f7860e3",
   "metadata": {},
   "source": [
    "## Computational Theory\n"
   ]
  },
  {
   "cell_type": "markdown",
   "id": "faae59f7",
   "metadata": {},
   "source": [
    "## Binary Words and Operations\n"
   ]
  },
  {
   "cell_type": "code",
   "execution_count": 4,
   "id": "b48f8c4f",
   "metadata": {},
   "outputs": [],
   "source": [
    "import numpy as np\n",
    "from sympy import *\n",
    "import math"
   ]
  },
  {
   "cell_type": "markdown",
   "id": "5e622206",
   "metadata": {},
   "source": [
    "- Parity function:\n",
    "\n",
    "(x xor y xor z)\n"
   ]
  },
  {
   "cell_type": "code",
   "execution_count": 2,
   "id": "fb6ac34e",
   "metadata": {},
   "outputs": [],
   "source": [
    "def Parity(x,y,z):\n",
    "    input_var = [x,y,z]\n",
    "    bin_list = []\n",
    "    for i in input_var:\n",
    "        binary_32bit = bin(i)[2:].zfill(32)\n",
    "        bin_list.append(binary_32bit)\n",
    "\n",
    "    result = []\n",
    "\n",
    "    for bit_position in range(32):\n",
    "        xor_result = int(bin_list[0][bit_position])\n",
    "        for i in range(1, len(bin_list)):\n",
    "            xor_result ^= int(bin_list[i][bit_position])\n",
    "\n",
    "        result.append(str(xor_result)) \n",
    "    \n",
    "    return ''.join(result)\n"
   ]
  },
  {
   "cell_type": "code",
   "execution_count": 3,
   "id": "d2c9f38d",
   "metadata": {},
   "outputs": [
    {
     "data": {
      "text/plain": [
       "'00000000000000000000000001000100'"
      ]
     },
     "execution_count": 3,
     "metadata": {},
     "output_type": "execute_result"
    }
   ],
   "source": [
    "Parity(12,77,5)"
   ]
  },
  {
   "cell_type": "markdown",
   "id": "30d24eee",
   "metadata": {},
   "source": [
    "## Ch (Choose Function):\n",
    "\n",
    "The Ch function takes in three variables in its parameters. The values are treated as 32 bit integers. An exclusive or is performed on the result of (x & y) and (!x & z).\n",
    "\n",
    "First the variables are converted into 32 bit binary arrays and are stored as variables bin_x, bin_y, bin_z. For performing the '&' on x and y iterate over each bit and performs the '&' on each corresponding bit in x and y and stores the result of each in a list 'and_xy'\n",
    "\n",
    "The same is done for x and z but with a not operator on x. This means it changes all 0s to 1s and vice versa on x, this is then stored as not_x. this not_x is then used in an '&' between x and z.\n",
    "\n",
    "An xor is performed on and_xy and andnot_xz for each bit and the result is returned as a 32 bit binary string\n"
   ]
  },
  {
   "cell_type": "markdown",
   "id": "881da72d",
   "metadata": {},
   "source": [
    "Ch(x,y,z) = (x ^ y) xor (!x ^ z)\n"
   ]
  },
  {
   "cell_type": "code",
   "execution_count": 4,
   "id": "ba947682",
   "metadata": {},
   "outputs": [],
   "source": [
    "def Ch(x,y,z):\n",
    "    input_var = [x,y,z]\n",
    "\n",
    "    #storing result of each operation ->\n",
    "    #then perform xor after\n",
    "    and_xy = []\n",
    "    and_notxz = []\n",
    "\n",
    "    result = []\n",
    "\n",
    "    bin_x = bin(x)[2:].zfill(32)\n",
    "    bin_y = bin(y)[2:].zfill(32)\n",
    "    bin_z = bin(z)[2:].zfill(32)\n",
    "\n",
    "    #(x & y)\n",
    "    for i in range(32):\n",
    "        and_xy.append(str(int(bin_x[i]) & (int(bin_y[i]))))\n",
    "\n",
    "    #(not x & z)\n",
    "    for i in range(32):\n",
    "        not_x = '1' if bin_x[i] == '0' else '0'\n",
    "        and_notxz.append(str(int(not_x) & int(bin_z[i])))\n",
    "\n",
    "    #xor \n",
    "    for i in range(32):\n",
    "        result.append(str(int(and_xy[i]) ^ int(and_notxz[i])))\n",
    "        \n",
    "    return ''.join(result)\n"
   ]
  },
  {
   "cell_type": "markdown",
   "id": "ef1d18bb",
   "metadata": {},
   "source": []
  },
  {
   "cell_type": "code",
   "execution_count": 5,
   "id": "2b388d4b",
   "metadata": {},
   "outputs": [
    {
     "data": {
      "text/plain": [
       "'00000000000000000000000000000100'"
      ]
     },
     "execution_count": 5,
     "metadata": {},
     "output_type": "execute_result"
    }
   ],
   "source": [
    "Ch(3,4,5)"
   ]
  },
  {
   "cell_type": "markdown",
   "id": "3df65450",
   "metadata": {},
   "source": [
    "Maj(x, y, z)=(x^y)xor(x^z)xor(y^z)\n"
   ]
  },
  {
   "cell_type": "markdown",
   "id": "a3c28daa",
   "metadata": {},
   "source": []
  },
  {
   "cell_type": "code",
   "execution_count": 6,
   "id": "691429a8",
   "metadata": {},
   "outputs": [],
   "source": [
    "def Maj(x,y,z):\n",
    "    input_var = [x,y,z]\n",
    "\n",
    "    and_xy = []\n",
    "    and_xz = []\n",
    "    and_yz = []\n",
    "\n",
    "    result = []\n",
    "\n",
    "    bin_x = bin(x)[2:].zfill(32)\n",
    "    bin_y = bin(y)[2:].zfill(32)\n",
    "    bin_z = bin(z)[2:].zfill(32)\n",
    "\n",
    "    for i in range(32):\n",
    "        and_xy.append(str(int(bin_x[i]) & int(bin_y[i])))\n",
    "\n",
    "        and_xz.append(str(int(bin_x[i]) & int(bin_z[i])))\n",
    "\n",
    "        and_yz.append(str(int(bin_y[i]) & int(bin_z[i])))\n",
    "\n",
    "    #\n",
    "    for i in range(32):\n",
    "        result.append(str(int(and_xy[i]) ^ int(and_xz[i]) ^ int(and_yz[i])))\n",
    "\n",
    "    return ''.join(result)\n",
    "\n",
    "\n"
   ]
  },
  {
   "cell_type": "markdown",
   "id": "3e950a23",
   "metadata": {},
   "source": []
  },
  {
   "cell_type": "code",
   "execution_count": 7,
   "id": "c84d22c0",
   "metadata": {},
   "outputs": [
    {
     "data": {
      "text/plain": [
       "'00000000000000000000000000000101'"
      ]
     },
     "execution_count": 7,
     "metadata": {},
     "output_type": "execute_result"
    }
   ],
   "source": [
    "Maj(3,4,5)"
   ]
  },
  {
   "cell_type": "markdown",
   "id": "989563e1",
   "metadata": {},
   "source": [
    "## Sigma0 function:\n",
    "\n",
    "\n",
    "rotr2(x) xor rotr13(x) xor rotr22(x)\n",
    "\n",
    "'rotrN(x) is defined as (x >> n) | (x << w - n)' where w is the length of the word and n is an integer 0<= n < w'.\n",
    "\n",
    "x is passed into sigma() and converted to a 32 bit integer and is stored as 'xint32'. xint32 is passed to the rotr\n",
    "function 'rotr(n,x)' where n is the degree of the rotation.\n",
    "\n",
    "The rotr function performs a shift to the right by n,(0s get appended to left) and a shift to the left by 32 - n(left most values wrap around to the right), similar to a ring buffer.\n",
    "\n",
    "A bitwise OR operations is performed on theses two values and the result is returned.\n",
    "\n",
    "the values rotr2, rotr13 & rotr22 are stored and used in the final operation which performs and xor on each\n",
    "\n",
    "'rotr2 ^ rotr13 ^ rotr22'."
   ]
  },
  {
   "cell_type": "code",
   "execution_count": 8,
   "id": "1576c256",
   "metadata": {},
   "outputs": [],
   "source": [
    "result = []\n",
    "\n",
    "def rotr(n, x):\n",
    "    '''Performs rotation on bit array'''\n",
    "    #bit shifting operations\n",
    "    return((x >> n) | (x << (32 - n)))\n",
    "\n",
    "\n",
    "def Sigma0(x):\n",
    "    '''Sigma0 function which performs a rotation function rotrN(x) where n is an integer and x is w-bit word'''\n",
    "    xint32 = np.uint32(x)\n",
    "    rotr2 = rotr(2,xint32 )\n",
    "    rotr13 = rotr(13,xint32)\n",
    "    rotr22 = rotr(22,xint32)\n",
    "\n",
    "    #xor\n",
    "    return(bin(rotr2 ^ rotr13 ^ rotr22))[2:]\n"
   ]
  },
  {
   "cell_type": "markdown",
   "id": "3505bccb",
   "metadata": {},
   "source": []
  },
  {
   "cell_type": "code",
   "execution_count": 9,
   "id": "3c6cc2bd",
   "metadata": {},
   "outputs": [
    {
     "data": {
      "text/plain": [
       "'1010000011101010101011001111111'"
      ]
     },
     "execution_count": 9,
     "metadata": {},
     "output_type": "execute_result"
    }
   ],
   "source": [
    "Sigma0(424242)"
   ]
  },
  {
   "cell_type": "markdown",
   "id": "222d0335",
   "metadata": {},
   "source": []
  },
  {
   "cell_type": "code",
   "execution_count": 10,
   "id": "98ce9217",
   "metadata": {},
   "outputs": [],
   "source": [
    "def Sigma1(x):\n",
    "    '''Sigma1 function similar to Sigma0 with different rotation values'''\n",
    "    xint32 = np.uint32(x)\n",
    "\n",
    "    #performing rotations on x\n",
    "    rotr6 = rotr(6,xint32)\n",
    "    rotr11 = rotr(11,xint32)\n",
    "    rotr25 = rotr(25,xint32)\n",
    "\n",
    "    #xor\n",
    "    return(bin(rotr6 ^ rotr11 ^ rotr25))[2:]"
   ]
  },
  {
   "cell_type": "code",
   "execution_count": 11,
   "id": "fd79993e",
   "metadata": {},
   "outputs": [
    {
     "data": {
      "text/plain": [
       "'11101101011111001000000000101011'"
      ]
     },
     "execution_count": 11,
     "metadata": {},
     "output_type": "execute_result"
    }
   ],
   "source": [
    "Sigma1(424242)"
   ]
  },
  {
   "cell_type": "markdown",
   "id": "53fc1cff",
   "metadata": {},
   "source": [
    "The right shift operation, where x is a w-bit word and n is an integer with 0\n",
    "<= \n",
    "n < w, is defined by SHR n\n",
    "(x)=x >> n."
   ]
  },
  {
   "cell_type": "code",
   "execution_count": 12,
   "id": "1376cb91",
   "metadata": {},
   "outputs": [],
   "source": [
    "def shr(n,x):\n",
    "    return x >> n"
   ]
  },
  {
   "cell_type": "markdown",
   "id": "0964302e",
   "metadata": {},
   "source": [
    "sigma0 function is similar to the previous sigma functions just with different rotation values and a shr operation. Xor is still operated on all function values "
   ]
  },
  {
   "cell_type": "code",
   "execution_count": 13,
   "id": "17413844",
   "metadata": {},
   "outputs": [],
   "source": [
    "def sigma0(x):\n",
    "    xint32 = np.uint32(x)\n",
    "\n",
    "    #rotation\n",
    "    rotr7 = rotr(7, xint32)\n",
    "    rotr18 = rotr(7, xint32)\n",
    "\n",
    "    #shift\n",
    "    shr3 = shr(3, xint32)\n",
    "\n",
    "    #xor\n",
    "    return (bin(rotr7 ^ rotr18 ^ shr3))[2:]"
   ]
  },
  {
   "cell_type": "code",
   "execution_count": 14,
   "id": "6053df98",
   "metadata": {},
   "outputs": [
    {
     "data": {
      "text/plain": [
       "'1100111100100110'"
      ]
     },
     "execution_count": 14,
     "metadata": {},
     "output_type": "execute_result"
    }
   ],
   "source": [
    "sigma0(424242)"
   ]
  },
  {
   "cell_type": "markdown",
   "id": "395e2f5f",
   "metadata": {},
   "source": [
    "sigma1 function identical to sigma0 with different shift and rotation values"
   ]
  },
  {
   "cell_type": "code",
   "execution_count": 15,
   "id": "ea59342d",
   "metadata": {},
   "outputs": [],
   "source": [
    "\n",
    "def sigma1(x):\n",
    "    xint_32 = np.uint32(x)\n",
    "\n",
    "    #rotation\n",
    "    rotr17 = rotr(17,xint_32)\n",
    "    rotr19 = rotr(19,xint_32)\n",
    "\n",
    "    #shift\n",
    "    shr10 = shr(10,xint_32)\n",
    "\n",
    "    #xor\n",
    "    return (bin(rotr17 ^ rotr19 ^ shr10))[2:]"
   ]
  },
  {
   "cell_type": "code",
   "execution_count": 16,
   "id": "52018d9e",
   "metadata": {},
   "outputs": [
    {
     "data": {
      "text/plain": [
       "'11110011101111110100000110011101'"
      ]
     },
     "execution_count": 16,
     "metadata": {},
     "output_type": "execute_result"
    }
   ],
   "source": [
    "sigma1(424242)"
   ]
  },
  {
   "cell_type": "markdown",
   "id": "0cdc99cb-86d2-4528-8b73-015eafe99298",
   "metadata": {},
   "source": [
    "## Problem 2: Fractional part of cube roots\n",
    "\n",
    "\n",
    "Write a function called primes(n) that generates the first n prime numbers.\n",
    "\n",
    "Use the function to calculate the cube root of the first 64 primes.\n",
    "\n",
    "For each cube root, extract the first thirty-two bits of the fractional part.\n",
    "\n",
    "Display the result in hexadecimal.\n",
    "\n",
    "Test the results against what is in the Secure Hash Standard.\n"
   ]
  },
  {
   "cell_type": "code",
   "execution_count": 7,
   "id": "6487b964-3eaf-4aa1-a3a5-1269a95bf381",
   "metadata": {},
   "outputs": [],
   "source": [
    "\n",
    "def get_primes(n):\n",
    "    primes = []\n",
    "    i = 2\n",
    "    while len(primes) < n:\n",
    "        #using sympy \n",
    "        if isprime(i):\n",
    "            primes.append(i)\n",
    "        i += 1\n",
    "            \n",
    "    return primes\n",
    "        "
   ]
  },
  {
   "cell_type": "code",
   "execution_count": 8,
   "id": "69d51969-9704-46f1-8da8-2020f07a9591",
   "metadata": {},
   "outputs": [
    {
     "data": {
      "text/plain": [
       "[2,\n",
       " 3,\n",
       " 5,\n",
       " 7,\n",
       " 11,\n",
       " 13,\n",
       " 17,\n",
       " 19,\n",
       " 23,\n",
       " 29,\n",
       " 31,\n",
       " 37,\n",
       " 41,\n",
       " 43,\n",
       " 47,\n",
       " 53,\n",
       " 59,\n",
       " 61,\n",
       " 67,\n",
       " 71,\n",
       " 73,\n",
       " 79,\n",
       " 83,\n",
       " 89,\n",
       " 97,\n",
       " 101,\n",
       " 103,\n",
       " 107,\n",
       " 109,\n",
       " 113,\n",
       " 127,\n",
       " 131,\n",
       " 137,\n",
       " 139,\n",
       " 149,\n",
       " 151,\n",
       " 157,\n",
       " 163,\n",
       " 167,\n",
       " 173,\n",
       " 179,\n",
       " 181,\n",
       " 191,\n",
       " 193,\n",
       " 197,\n",
       " 199,\n",
       " 211,\n",
       " 223,\n",
       " 227,\n",
       " 229,\n",
       " 233,\n",
       " 239,\n",
       " 241,\n",
       " 251,\n",
       " 257,\n",
       " 263,\n",
       " 269,\n",
       " 271,\n",
       " 277,\n",
       " 281,\n",
       " 283,\n",
       " 293,\n",
       " 307,\n",
       " 311]"
      ]
     },
     "execution_count": 8,
     "metadata": {},
     "output_type": "execute_result"
    }
   ],
   "source": [
    "get_primes(64)"
   ]
  },
  {
   "cell_type": "code",
   "execution_count": 9,
   "id": "af773827-24b1-4235-9a44-6dcbd5103cf7",
   "metadata": {},
   "outputs": [],
   "source": [
    "def get_cube_root(prime_nums):\n",
    "    cube_roots = []\n",
    "    for p in prime_nums:\n",
    "        p = math.pow(p, 1/3)\n",
    "        cube_roots.append(p)\n",
    "\n",
    "    return cube_roots\n",
    "            "
   ]
  },
  {
   "cell_type": "code",
   "execution_count": 10,
   "id": "4ea0550b-e856-450a-8edc-3667e88fffb5",
   "metadata": {},
   "outputs": [
    {
     "data": {
      "text/plain": [
       "[1.2599210498948732,\n",
       " 1.4422495703074083,\n",
       " 1.7099759466766968,\n",
       " 1.912931182772389,\n",
       " 2.2239800905693152,\n",
       " 2.3513346877207573,\n",
       " 2.571281590658235,\n",
       " 2.668401648721945,\n",
       " 2.8438669798515654,\n",
       " 3.072316825685847,\n",
       " 3.1413806523913927,\n",
       " 3.332221851645953,\n",
       " 3.4482172403827303,\n",
       " 3.503398060386724,\n",
       " 3.6088260801386944,\n",
       " 3.756285754221072,\n",
       " 3.8929964158732604,\n",
       " 3.936497183102173,\n",
       " 4.0615481004456795,\n",
       " 4.140817749422853,\n",
       " 4.179339196381232,\n",
       " 4.290840427026207,\n",
       " 4.362070671454838,\n",
       " 4.464745095584537,\n",
       " 4.594700892207039,\n",
       " 4.657009507803835,\n",
       " 4.687548147653597,\n",
       " 4.7474593985234,\n",
       " 4.776856181035017,\n",
       " 4.834588127111639,\n",
       " 5.026525695313479,\n",
       " 5.0787530781327,\n",
       " 5.155136735475772,\n",
       " 5.180101467380292,\n",
       " 5.301459192380904,\n",
       " 5.325074021614986,\n",
       " 5.394690712109591,\n",
       " 5.462555571281397,\n",
       " 5.506878446387352,\n",
       " 5.5720546555426225,\n",
       " 5.635740794544236,\n",
       " 5.65665282582291,\n",
       " 5.758965220492401,\n",
       " 5.778996565152129,\n",
       " 5.818647867496961,\n",
       " 5.838272460814002,\n",
       " 5.953341813139051,\n",
       " 6.064126994506963,\n",
       " 6.100170200393062,\n",
       " 6.11803317263662,\n",
       " 6.153449493663682,\n",
       " 6.205821794895751,\n",
       " 6.223084253206058,\n",
       " 6.307993548663267,\n",
       " 6.3578611797342,\n",
       " 6.4069585771855575,\n",
       " 6.455314810938885,\n",
       " 6.471273626960365,\n",
       " 6.518683915173769,\n",
       " 6.549911620119374,\n",
       " 6.565414427346138,\n",
       " 6.6418521953442085,\n",
       " 6.745996711705424,\n",
       " 6.775168952273312]"
      ]
     },
     "execution_count": 10,
     "metadata": {},
     "output_type": "execute_result"
    }
   ],
   "source": [
    "get_cube_root(get_primes(64))"
   ]
  },
  {
   "cell_type": "code",
   "execution_count": 11,
   "id": "1727c5ed-554f-415c-b228-f3d02576c189",
   "metadata": {},
   "outputs": [],
   "source": [
    "cube_roots = get_cube_root(get_primes(64))"
   ]
  },
  {
   "cell_type": "code",
   "execution_count": 12,
   "id": "6122e23d-e88b-496a-893a-7dcc2b03d865",
   "metadata": {},
   "outputs": [],
   "source": [
    "def extract_32bit(cube_roots):\n",
    "    extracted32b = []\n",
    "    for cube_root in cube_roots:\n",
    "        bit_fraction = cube_root % 1\n",
    "        fix_point = int(bit_fraction * 2**32)\n",
    "        bin_string = bin(fix_point)[2:].zfill(32)\n",
    "        extracted32b.append(bin_string)\n",
    "        \n",
    "        \n",
    "    return extracted32b"
   ]
  },
  {
   "cell_type": "code",
   "execution_count": 13,
   "id": "9f1f920e-3006-467c-bf28-6718ef7ad0c8",
   "metadata": {},
   "outputs": [
    {
     "data": {
      "text/plain": [
       "['01000010100010100010111110011000',\n",
       " '01110001001101110100010010010001',\n",
       " '10110101110000001111101111001111',\n",
       " '11101001101101011101101110100101',\n",
       " '00111001010101101100001001011011',\n",
       " '01011001111100010001000111110001',\n",
       " '10010010001111111000001010100100',\n",
       " '10101011000111000101111011010101',\n",
       " '11011000000001111010101010011000',\n",
       " '00010010100000110101101100000001',\n",
       " '00100100001100011000010110111110',\n",
       " '01010101000011000111110111000011',\n",
       " '01110010101111100101110101110100',\n",
       " '10000000110111101011000111111110',\n",
       " '10011011110111000000011010100111',\n",
       " '11000001100110111111000101110100',\n",
       " '11100100100110110110100111000001',\n",
       " '11101111101111100100011110000110',\n",
       " '00001111110000011001110111000110',\n",
       " '00100100000011001010000111001100',\n",
       " '00101101111010010010110001101111',\n",
       " '01001010011101001000010010101010',\n",
       " '01011100101100001010100111011100',\n",
       " '01110110111110011000100011011010',\n",
       " '10011000001111100101000101010010',\n",
       " '10101000001100011100011001101101',\n",
       " '10110000000000110010011111001000',\n",
       " '10111111010110010111111111000111',\n",
       " '11000110111000000000101111110011',\n",
       " '11010101101001111001000101000111',\n",
       " '00000110110010100110001101010001',\n",
       " '00010100001010010010100101100111',\n",
       " '00100111101101110000101010000101',\n",
       " '00101110000110110010000100111000',\n",
       " '01001101001011000110110111111100',\n",
       " '01010011001110000000110100010011',\n",
       " '01100101000010100111001101010100',\n",
       " '01110110011010100000101010111011',\n",
       " '10000001110000101100100100101110',\n",
       " '10010010011100100010110010000101',\n",
       " '10100010101111111110100010100001',\n",
       " '10101000000110100110011001001011',\n",
       " '11000010010010111000101101110000',\n",
       " '11000111011011000101000110100011',\n",
       " '11010001100100101110100000011001',\n",
       " '11010110100110010000011000100100',\n",
       " '11110100000011100011010110000101',\n",
       " '00010000011010101010000001110000',\n",
       " '00011001101001001100000100010110',\n",
       " '00011110001101110110110000001000',\n",
       " '00100111010010000111011101001100',\n",
       " '00110100101100001011110010110101',\n",
       " '00111001000111000000110010110011',\n",
       " '01001110110110001010101001001010',\n",
       " '01011011100111001100101001001111',\n",
       " '01101000001011100110111111110011',\n",
       " '01110100100011111000001011101110',\n",
       " '01111000101001010110001101101111',\n",
       " '10000100110010000111100000010100',\n",
       " '10001100110001110000001000001000',\n",
       " '10010000101111101111111111111010',\n",
       " '10100100010100000110110011101011',\n",
       " '10111110111110011010001111110111',\n",
       " '11000110011100010111100011110010']"
      ]
     },
     "execution_count": 13,
     "metadata": {},
     "output_type": "execute_result"
    }
   ],
   "source": [
    "extract_32bit(cube_roots)"
   ]
  },
  {
   "cell_type": "code",
   "execution_count": 14,
   "id": "0f513cb6-dccf-4f40-976c-966c2afe1679",
   "metadata": {},
   "outputs": [],
   "source": [
    "binary = extract_32bit(cube_roots)"
   ]
  },
  {
   "cell_type": "code",
   "execution_count": 15,
   "id": "8fdcdcd7-d7f2-4e70-b1ea-b9e07b327f23",
   "metadata": {},
   "outputs": [],
   "source": [
    "def bin_to_hex(binary):\n",
    "    hexedecimal_roots = []\n",
    "    for b in binary:\n",
    "        hex_str = hex(int(b,2))[2:].zfill(8)\n",
    "        hexedecimal_roots.append(hex_str)\n",
    "\n",
    "    return hexedecimal_roots"
   ]
  },
  {
   "cell_type": "code",
   "execution_count": 16,
   "id": "5345e0b5-98f9-4e6f-979e-f057e2c041fb",
   "metadata": {},
   "outputs": [
    {
     "data": {
      "text/plain": [
       "['428a2f98',\n",
       " '71374491',\n",
       " 'b5c0fbcf',\n",
       " 'e9b5dba5',\n",
       " '3956c25b',\n",
       " '59f111f1',\n",
       " '923f82a4',\n",
       " 'ab1c5ed5',\n",
       " 'd807aa98',\n",
       " '12835b01',\n",
       " '243185be',\n",
       " '550c7dc3',\n",
       " '72be5d74',\n",
       " '80deb1fe',\n",
       " '9bdc06a7',\n",
       " 'c19bf174',\n",
       " 'e49b69c1',\n",
       " 'efbe4786',\n",
       " '0fc19dc6',\n",
       " '240ca1cc',\n",
       " '2de92c6f',\n",
       " '4a7484aa',\n",
       " '5cb0a9dc',\n",
       " '76f988da',\n",
       " '983e5152',\n",
       " 'a831c66d',\n",
       " 'b00327c8',\n",
       " 'bf597fc7',\n",
       " 'c6e00bf3',\n",
       " 'd5a79147',\n",
       " '06ca6351',\n",
       " '14292967',\n",
       " '27b70a85',\n",
       " '2e1b2138',\n",
       " '4d2c6dfc',\n",
       " '53380d13',\n",
       " '650a7354',\n",
       " '766a0abb',\n",
       " '81c2c92e',\n",
       " '92722c85',\n",
       " 'a2bfe8a1',\n",
       " 'a81a664b',\n",
       " 'c24b8b70',\n",
       " 'c76c51a3',\n",
       " 'd192e819',\n",
       " 'd6990624',\n",
       " 'f40e3585',\n",
       " '106aa070',\n",
       " '19a4c116',\n",
       " '1e376c08',\n",
       " '2748774c',\n",
       " '34b0bcb5',\n",
       " '391c0cb3',\n",
       " '4ed8aa4a',\n",
       " '5b9cca4f',\n",
       " '682e6ff3',\n",
       " '748f82ee',\n",
       " '78a5636f',\n",
       " '84c87814',\n",
       " '8cc70208',\n",
       " '90befffa',\n",
       " 'a4506ceb',\n",
       " 'bef9a3f7',\n",
       " 'c67178f2']"
      ]
     },
     "execution_count": 16,
     "metadata": {},
     "output_type": "execute_result"
    }
   ],
   "source": [
    "bin_to_hex(binary)"
   ]
  },
  {
   "cell_type": "code",
   "execution_count": null,
   "id": "973117db-f529-4fc5-ba42-6ad30fd463ab",
   "metadata": {},
   "outputs": [],
   "source": []
  }
 ],
 "metadata": {
  "kernelspec": {
   "display_name": "Python 3 (ipykernel)",
   "language": "python",
   "name": "python3"
  },
  "language_info": {
   "codemirror_mode": {
    "name": "ipython",
    "version": 3
   },
   "file_extension": ".py",
   "mimetype": "text/x-python",
   "name": "python",
   "nbconvert_exporter": "python",
   "pygments_lexer": "ipython3",
   "version": "3.14.0"
  }
 },
 "nbformat": 4,
 "nbformat_minor": 5
}
